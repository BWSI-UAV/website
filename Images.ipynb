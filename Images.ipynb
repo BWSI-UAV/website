{
 "cells": [
  {
   "cell_type": "markdown",
   "metadata": {},
   "source": [
    "### Digital Image Representation and Color Encoding\n",
    "\n",
    "Before we can get to manipulating images, we first need a way to represent images in Python. In this lab will, we will represent a digital image as a two-dimensional array, where each element of the array corresponds to a pixel in the image. \n",
    "\n",
    "To begin, we will narrow our focus to grayscale images. In a gayscale image, each pixel is represented by a single integer in the range `[0,255]` (1 byte can contain 256 different values). These integers correspond to the intensity of light present at each pixel, with 0 being completely black and 255 being completely white.\n",
    "\n",
    "**provide example of grayscale image**\n",
    "\n",
    "In this lab, we will represent images as numpy arrays. For example, consider the 2 x 3 image:\n",
    "\n",
    "**include image**\n",
    "\n",
    "This image would be encoded as:\n",
    "\n",
    "~~~~\n",
    "image = np.array([[  0,  50]\n",
    "                 [100, 150]\n",
    "                 [200, 250]])\n",
    "~~~~"
   ]
  },
  {
   "cell_type": "code",
   "execution_count": 3,
   "metadata": {},
   "outputs": [],
   "source": [
    "import numpy as np"
   ]
  },
  {
   "cell_type": "code",
   "execution_count": null,
   "metadata": {},
   "outputs": [],
   "source": []
  }
 ],
 "metadata": {
  "kernelspec": {
   "display_name": "Python 3 (ipykernel)",
   "language": "python",
   "name": "python3"
  },
  "language_info": {
   "codemirror_mode": {
    "name": "ipython",
    "version": 3
   },
   "file_extension": ".py",
   "mimetype": "text/x-python",
   "name": "python",
   "nbconvert_exporter": "python",
   "pygments_lexer": "ipython3",
   "version": "3.6.13"
  }
 },
 "nbformat": 4,
 "nbformat_minor": 2
}
