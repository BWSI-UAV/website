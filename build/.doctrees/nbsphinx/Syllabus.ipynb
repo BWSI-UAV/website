{
 "cells": [
  {
   "cell_type": "markdown",
   "metadata": {},
   "source": [
    "# 2024 Course Syllabus*"
   ]
  },
  {
   "cell_type": "markdown",
   "metadata": {},
   "source": [
    "---\n",
    "## Instructors\n",
    "\n",
    "Immanuel Ampomah Mensah\n",
    "\n",
    "\n",
    "## Teaching Assistants\n",
    "\n",
    "Neil Sanipara, \n",
    "Noreen Hossain, \n",
    "Joshua Huang, \n",
    "Jake Pallogudis,  \n",
    "Sarah McMahon, \n",
    "Michelle Mobius, \n",
    "Smruti Suresh, \n",
    "Sakina Saidi"
   ]
  },
  {
   "cell_type": "markdown",
   "metadata": {},
   "source": [
    "---\n",
    "## Week 1: Quadrotor Basics\n",
    "\n",
    "__Goal:__ We will go from parts on a table to a quadrotor UAV that is capable of stable, autonomous hover.\n",
    "\n",
    "__Monday:__ Course Overview, Safety Briefings, Team Formation\n",
    "\n",
    "__Tuesday:__ Drone Architecture, Onboard Software\n",
    "\n",
    "__Wednesday:__ Quadrotor Build, Manual Flight Tests\n",
    "\n",
    "__Thursday:__ Onboard Sensors, Reference Frames and Localization\n",
    "\n",
    "__Friday:__ Autonomous Hovering Challenge"
   ]
  },
  {
   "cell_type": "markdown",
   "metadata": {},
   "source": [
    "## Week 2: Computer Vision\n",
    "\n",
    "__Goal:__ We will build the tools that enable autonomous systems to understand the world around them using information from still images and video feeds \n",
    "\n",
    "__Monday:__ Kernels, Edges, Thresholds\n",
    "\n",
    "__Tuesday:__ Regression, Line Parameterization\n",
    "\n",
    "__Wednesday:__ ROS Integration of Line Extraction\n",
    "\n",
    "__Thursday:__ Obstacle Detection\n",
    "\n",
    "__Friday:__ Computer Vision Challenge"
   ]
  },
  {
   "cell_type": "markdown",
   "metadata": {},
   "source": [
    "## Week 3: Planning and Control\n",
    "\n",
    "__Goal:__ We will understand how autonomous systems make decision and execute tasks with precision\n",
    "\n",
    "__Monday:__ Feedback Control\n",
    "\n",
    "__Tuesday:__ State Estimation\n",
    "\n",
    "__Wednesday:__ PID Control\n",
    "\n",
    "__Thursday:__ Planning\n",
    "\n",
    "__Friday:__ Navigation Challenge"
   ]
  },
  {
   "cell_type": "markdown",
   "metadata": {},
   "source": [
    "## Week 4: Challenge Week\n",
    "\n",
    "__Goal:__ We will spend the whole week preparing and competing in the UAV Racing Challenge"
   ]
  },
  {
   "cell_type": "code",
   "execution_count": null,
   "metadata": {},
   "outputs": [],
   "source": []
  }
 ],
 "metadata": {
  "kernelspec": {
   "display_name": "Python 3 (ipykernel)",
   "language": "python",
   "name": "python3"
  },
  "language_info": {
   "codemirror_mode": {
    "name": "ipython",
    "version": 3
   },
   "file_extension": ".py",
   "mimetype": "text/x-python",
   "name": "python",
   "nbconvert_exporter": "python",
   "pygments_lexer": "ipython3",
   "version": "3.6.13"
  }
 },
 "nbformat": 4,
 "nbformat_minor": 4
}
