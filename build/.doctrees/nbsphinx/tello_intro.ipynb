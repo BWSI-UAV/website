{
 "cells": [
  {
   "cell_type": "markdown",
   "metadata": {},
   "source": [
    "# Course Overview\n",
    "\n",
    "The UAV course staff have modified the Intel Aero Course content previously used for in person instruction for with the [DJI Tello](https://www.ryzerobotics.com/tello) mini-drone. The drone has core robotic functionality such as an IMU, onboard camera, and Python SDK. There is also an active community of users providing support for the platform. While an economic replacement, it does not offer all the same sensory capabilities.\n",
    "\n",
    "# Passport Curriculum\n",
    "\n",
    "To manage remote learning, practicals here are called passports. Each student upon receiving a drone is issued a passport, which contains incremental exercises for development of robotic disciplines: controls, machine vision, etc. Instructors or teaching assistants sign off on exercises as they are completed.\n",
    "\n",
    "# Final Project\n",
    "\n",
    "Since a standardized UAV cage is not readily available in every student's home, we encourage summer students to choose an open-ended project that encompasses the skills they have learned in the prep coursework and over the summer. In past years, some students built their own race course out of pool noodles and others applied more advanced machine learning topics to create a persona videography drone. If you need project ideas, don't feel shy about asking the instructors."
   ]
  },
  {
   "cell_type": "markdown",
   "metadata": {},
   "source": []
  }
 ],
 "metadata": {
  "language_info": {
   "name": "python"
  }
 },
 "nbformat": 4,
 "nbformat_minor": 2
}
