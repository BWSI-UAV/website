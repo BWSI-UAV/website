{
 "cells": [
  {
   "cell_type": "markdown",
   "metadata": {},
   "source": [
    "# Glossary\n",
    "\n",
    "- __Aero Compute Board__: Onboard computer for the Intel RTF Drone. Runs Yocto or Ubuntu Linux (we will be using Ubuntu)\n",
    "- __AeroFC__: Aero Flight Controller is the flight control board on the Intel RTF. AeroFC runs the PX4 flight control firm NuttX real time operating system This is distinct from the Aero Compute Board which is. The AeroFC\n",
    "- __flashing__: Install software on an embedded computer/processor\n",
    "- __RealSense__:\n",
    "- __MAVLINK__:\n",
    "- __MAVROS__:\n",
    "- __PX4__:\n"
   ]
  },
  {
   "cell_type": "code",
   "execution_count": null,
   "metadata": {},
   "outputs": [],
   "source": []
  }
 ],
 "metadata": {
  "kernelspec": {
   "display_name": "Python 2",
   "language": "python",
   "name": "python2"
  },
  "language_info": {
   "codemirror_mode": {
    "name": "ipython",
    "version": 2
   },
   "file_extension": ".py",
   "mimetype": "text/x-python",
   "name": "python",
   "nbconvert_exporter": "python",
   "pygments_lexer": "ipython2",
   "version": "2.7.12"
  }
 },
 "nbformat": 4,
 "nbformat_minor": 2
}
