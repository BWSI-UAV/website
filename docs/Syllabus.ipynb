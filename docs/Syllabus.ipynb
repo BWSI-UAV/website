{
 "cells": [
  {
   "cell_type": "markdown",
   "metadata": {},
   "source": [
    "# 2021 Course Syllabus"
   ]
  },
  {
   "cell_type": "markdown",
   "metadata": {},
   "source": [
    "---\n",
    "## Instructors\n",
    "\n",
    "Nathaniel Hanson [nathaniel.hanson@ll.mit.edu](nathaniel.hanson@ll.mit.edu)\n",
    "\n",
    "Kendrick Cancio [kendrick.cancio@ll.mit.edu](kendrick.cancio@ll.mit.edu)\n",
    "\n",
    "## Teaching Assistants\n",
    "\n",
    "Rotate each course offering"
   ]
  },
  {
   "cell_type": "markdown",
   "metadata": {},
   "source": [
    "---\n",
    "## Week 1: Quadrotor Basics\n",
    "\n",
    "__Goal:__ We will go from parts on a table to a quadrotor UAV that is capable of stable, autonomous hover.\n",
    "\n",
    "__Monday:__ Course Overview, Safety Briefings, Team Formation\n",
    "\n",
    "__Tuesday:__ Quadrotor Build, Manual Flight Tests\n",
    "\n",
    "__Wednesday:__ Intel RTF Architecture, Onboard Software\n",
    "\n",
    "__Thursday:__ Onboard Sensors, Reference Frames and Localization\n",
    "\n",
    "__Friday:__ Autonomous Hovering Challenge"
   ]
  },
  {
   "cell_type": "markdown",
   "metadata": {},
   "source": [
    "## Week 2: Computer Vision\n",
    "\n",
    "__Goal:__ We will build the tools that enable autonomous systems to understand the world around them using information from still images and video feeds \n",
    "\n",
    "__Monday:__ Kernels, Edges, Thresholds\n",
    "\n",
    "__Tuesday:__ Regression, Line Parameterization\n",
    "\n",
    "__Wednesday:__ ROS Integration of Line Extraction\n",
    "\n",
    "__Thursday:__ Obstacle Detection\n",
    "\n",
    "__Friday:__ Computer Vision Challenge"
   ]
  },
  {
   "cell_type": "markdown",
   "metadata": {},
   "source": [
    "## Week 3: Planning and Control\n",
    "\n",
    "__Goal:__ We will understand how autonomous systems make decision and execute tasks with precision\n",
    "\n",
    "__Monday:__ Feedback Control\n",
    "\n",
    "__Tuesday:__ State Estimation\n",
    "\n",
    "__Wednesday:__ PID Control\n",
    "\n",
    "__Thursday:__ Planning\n",
    "\n",
    "__Friday:__ Navigation Challenge"
   ]
  },
  {
   "cell_type": "markdown",
   "metadata": {},
   "source": [
    "## Week 4: Challenge Week\n",
    "\n",
    "__Goal:__ We will spend the whole week preparing and competing in the UAV Racing Challenge"
   ]
  }
 ],
 "metadata": {
  "kernelspec": {
   "display_name": "Python 2",
   "language": "python",
   "name": "python2"
  },
  "language_info": {
   "codemirror_mode": {
    "name": "ipython",
    "version": 2
   },
   "file_extension": ".py",
   "mimetype": "text/x-python",
   "name": "python",
   "nbconvert_exporter": "python",
   "pygments_lexer": "ipython2",
   "version": "2.7.12"
  }
 },
 "nbformat": 4,
 "nbformat_minor": 2
}
