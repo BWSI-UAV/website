{
 "cells": [
  {
   "cell_type": "markdown",
   "metadata": {},
   "source": [
    "# ARTag Localization\n",
    "\n",
    "In this tutorial we will continue to explore how the various sensors on board the Intel Aero Drone can provide information on where the drone is in the world (i.e. localizations), which is a critical first step to autonomous navigation. Here we will explore the use of visual fiducial known as an [ARTag](https://en.wikipedia.org/wiki/ARTag). See below for an example.\n",
    "\n",
    "![Source: http://wiki.ros.org/ar_track_alvar](http://wiki.ros.org/ar_track_alvar?action=AttachFile&do=get&target=artags.png)\n",
    "\n",
    "In the [optical flow](#enable_optical_flow.html) tutorial, we saw how the combination of the TeraRanger distance sensor, downward facing camera, and \"black box\" service/software `aero-optical-flow` enabled the new flight mode of `POSITION CONTROL` which was significantly easier to pilot than `MANUAL`. \n",
    "\n",
    "This tutorial will similarly use an onboard camera and pre-compiled libraries/software to provide a form of positioning information. In contrast to the optical flow tutorial, we will be using the front-facing [RealSense](https://en.wikipedia.org/wiki/Intel_RealSense) camera suite and the `ar_track_alvar` ROS package (see [here](http://wiki.ros.org/ar_track_alvar) for more details)."
   ]
  },
  {
   "cell_type": "markdown",
   "metadata": {},
   "source": [
    "## Launching RealSense & ar_track_alvar"
   ]
  },
  {
   "cell_type": "markdown",
   "metadata": {},
   "source": [
    "## Visualizing with rviz"
   ]
  },
  {
   "cell_type": "markdown",
   "metadata": {},
   "source": [
    "## Processing Marker\n",
    "\n",
    "In preparation for this week's challenge, you will need to write your own ROS node that subscribes to the appropriate ARTag topics, parses important information from messages, and displays instructions to the [Ground Commdander](#team_roles.html#Ground-Commander) to aid in flight maneuvers"
   ]
  },
  {
   "cell_type": "code",
   "execution_count": null,
   "metadata": {},
   "outputs": [],
   "source": []
  }
 ],
 "metadata": {
  "kernelspec": {
   "display_name": "Python 2",
   "language": "python",
   "name": "python2"
  },
  "language_info": {
   "codemirror_mode": {
    "name": "ipython",
    "version": 2
   },
   "file_extension": ".py",
   "mimetype": "text/x-python",
   "name": "python",
   "nbconvert_exporter": "python",
   "pygments_lexer": "ipython2",
   "version": "2.7.12"
  }
 },
 "nbformat": 4,
 "nbformat_minor": 2
}
