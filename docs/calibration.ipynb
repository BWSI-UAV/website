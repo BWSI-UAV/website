{
 "cells": [
  {
   "cell_type": "markdown",
   "metadata": {},
   "source": [
    "# Calibrating Intel RTF Drones\n",
    "## Step 1: Connect to the Drone\n",
    "You can connect the drone over QGroundControl using the following steps:\n",
    "#### Connecting with QGroundControl\n",
    "\n",
    "In order to connect the groundstation software (i.e. QGroundControl) to the drone via a router: (skippable if already completed)\n",
    "\n",
    "On the drone:\n",
    "\n",
    "\n",
    "\n",
    "\n",
    "<ul>\n",
    " <li> Open a terminal and run `ifconfig` </li>\n",
    " <li> Get the IP address of the drone which is labeled `inet addr` under the `wlp1s0` heading</li>\n",
    "</ul>\n",
    "\n",
    "On the groundstation:\n",
    "\n",
    "\n",
    "\n",
    "\n",
    "<ul>\n",
    " <li>Open QGroundControl</li>\n",
    " <li>In the top left click on the \"Q\"</li>\n",
    " <li>Select the \"Comm Links\" tap</li>\n",
    " <li>Select \"Add\"</li>\n",
    "  <ul>\n",
    "   <li>Set the \"Type\" to TCP</li>\n",
    "   <li>Set \"Serial Port\" to the IP address of the drone</li>\n",
    "   <li>Set \"TCP Port\" to 5760</li>\n",
    "   <li>Select \"OK\"</li>\n",
    "  </ul>\n",
    " <li>Select the new link and press \"Connect\". This will connect QGroundControl to the drone</li>\n",
    "</ul>\n",
    "\n",
    "\n",
    "\n",
    "\n",
    "## Step 2: Calibration Setup\n",
    "\n",
    "Open QGroundControl and select Sensors from the side menu.\n",
    "\n",
    "\n",
    "\n",
    "<img src=\"https://github.mit.edu/BWSI/UAVRacing/blob/master/docs/images/qgc.png\">\n",
    "\n",
    "![qgc.png](https://github.com/BWSI-UAV/website/blob/master/docs/images/qgc.png?raw=true)\n",
    "\n",
    "\n",
    "Ensure you have a box/upside-down mount and a regular mount as pictured below, as well as an Intel RTF Drone with a charged battery."
   ]
  },
  {
   "cell_type": "markdown",
   "metadata": {},
   "source": [
    "<table><tr><td><img style='transform: rotate(90deg);' src='https://github.com/BWSI-UAV/website/blob/master/docs/images/box-mount.jpg?raw=true'></td><td><img style='transform: rotate(90deg);' src='https://github.com/BWSI-UAV/website/blob/master/docs/images/standard-mount.jpg?raw=true'></td></tr></table>"
   ]
  },
  {
   "cell_type": "markdown",
   "metadata": {},
   "source": [
    "## Step 3: Compass Calibration"
   ]
  },
  {
   "cell_type": "markdown",
   "metadata": {},
   "source": [
    "\n",
    "\n",
    "\n",
    "<ul>\n",
    "    <li> Begin with the drone in the standard mount. </li>\n",
    "</ul>\n",
    "\n",
    "<img alt=\"hello\" src=\"https://github.mit.edu/BWSI/UAVRacing/blob/master/docs/images/standard-mount-w-drone.JPG\"   \n",
    "style=\"transform: rotate(90deg);\">\n"
   ]
  },
  {
   "cell_type": "markdown",
   "metadata": {},
   "source": [
    "<ul>\n",
    "<li> Select the Compass option in the calibration menu. </li>\n",
    "   <img src=\"https://github.mit.edu/BWSI/UAVRacing/blob/master/docs/images/compass_select.png\">\n",
    "    <li> Select Ok when prompted.</li>\n",
    "    <li> Place the drone into each of the positions indicated in QGroundControl </li>\n",
    "    <li> Once the bounding box for each position turns yellow, rotate the mount continuously around the fixed point at which calibration started, until the bounding box turns green. </li>\n",
    "</ul>\n",
    "\n",
    "\n",
    "\n",
    "\n",
    "#### The compass calibration process (except the upside down configuration) is shown below.\n",
    "\n",
    "    "
   ]
  },
  {
   "cell_type": "markdown",
   "metadata": {},
   "source": [
    "<img src=\"https://github.mit.edu/raw/BWSI/UAVRacing/master/docs/images/compass.gif\" align=\"left\" style=\"width:25%\">"
   ]
  },
  {
   "cell_type": "markdown",
   "metadata": {},
   "source": [
    "<li> For the upside-down configuration, place the drone in the box mount. </li>\n"
   ]
  },
  {
   "cell_type": "markdown",
   "metadata": {},
   "source": [
    "<table><tr><td><img src='https://github.mit.edu/raw/BWSI/UAVRacing/master/docs/images/IMG_7980.JPG'></td><td><img src='https://github.mit.edu/raw/BWSI/UAVRacing/master/docs/images/IMG_7981.JPG'></td></tr></table>"
   ]
  },
  {
   "cell_type": "markdown",
   "metadata": {},
   "source": [
    "<li> Turn the box mount continuously until the bounding box for the upside down configuration turns green. </li>"
   ]
  },
  {
   "cell_type": "markdown",
   "metadata": {},
   "source": [
    "## Step 4: Accelerometer Calibration"
   ]
  },
  {
   "cell_type": "markdown",
   "metadata": {},
   "source": [
    "<ul>\n",
    "    <li> Start with the drone in the standard mount. </li>\n",
    "    <li> Select Accelerometer from the left menu on the Sensors page in QGroundControl. </li>\n",
    "    <li> Move the drone to each of the indicated positions, and make sure to hold the mount still while the bounding box of each position is yellow in QGroundControl. </li> \n",
    "</ul>\n",
    "#### The accelerometer calibration process (except the upside-down configuration) is shown below."
   ]
  },
  {
   "cell_type": "markdown",
   "metadata": {},
   "source": [
    "<img src=\"https://github.mit.edu/BWSI/UAVRacing/blob/master/docs/images/accelerometer.gif\" align=\"left\" style=\"width:25%\">"
   ]
  },
  {
   "cell_type": "markdown",
   "metadata": {},
   "source": [
    "<li> For the upside-down configuration, place the drone in the box mount, as shown above in Step 3, and hold the box still until the bounding box on screen turns green. </li>"
   ]
  },
  {
   "cell_type": "markdown",
   "metadata": {},
   "source": [
    "## Step 5: Gyroscope and Level Horizon Calibration"
   ]
  },
  {
   "cell_type": "markdown",
   "metadata": {},
   "source": [
    "Both of these calibrations require the drone to be placed on a flat surface (without any mounts or other accessories). "
   ]
  },
  {
   "cell_type": "markdown",
   "metadata": {},
   "source": [
    "<img src=\"https://github.mit.edu/BWSI/UAVRacing/blob/master/docs/images/drone-on-table.JPG\">"
   ]
  },
  {
   "cell_type": "markdown",
   "metadata": {},
   "source": [
    "<li> Select Gyroscope from the left menu on the Sensors page in QGroundControl. </li>\n",
    "<li> Wait for the bounding box to turn green. Gyroscope calibration is now complete. </li>\n",
    "<li> Select Level Horizon from the left menu on the Sensors page in QGroundControl. </li>\n",
    "<li> Wait for the progress bar at the top of the screen to fill. Level Horizon sensor calibration is now complete.</li>\n",
    "\n",
    "## Note: Level Horizon calibration is critical for proper drone operation. \n",
    "Make sure your flat surface is actually flat, and avoid moving anything on the surface while calibrating.\n"
   ]
  },
  {
   "cell_type": "markdown",
   "metadata": {},
   "source": [
    "## Step 6: Verifying Calibration"
   ]
  },
  {
   "cell_type": "markdown",
   "metadata": {},
   "source": [
    "<li> From the QGroundControl top menu bar, select Analyze under Widgets. </li>"
   ]
  },
  {
   "cell_type": "markdown",
   "metadata": {},
   "source": [
    "<img src=\"https://github.mit.edu/BWSI/UAVRacing/blob/master/docs/images/widgets.png\">"
   ]
  },
  {
   "cell_type": "markdown",
   "metadata": {},
   "source": [
    "<li> In Analyze, enter 'acc' into the filter box. </li>"
   ]
  },
  {
   "cell_type": "markdown",
   "metadata": {},
   "source": [
    "<img src=\"https://github.mit.edu/BWSI/UAVRacing/blob/master/docs/images/acc.png\">"
   ]
  },
  {
   "cell_type": "markdown",
   "metadata": {},
   "source": [
    "<li> Select the check box for IMU.zacc, and verify that the resulting graph is close to -9.81 m/s^2 (gravity) </li>"
   ]
  },
  {
   "cell_type": "markdown",
   "metadata": {},
   "source": [
    "<img src=\"https://github.mit.edu/BWSI/UAVRacing/blob/master/docs/images/zacc.png\">"
   ]
  },
  {
   "cell_type": "markdown",
   "metadata": {},
   "source": [
    "<li> Deselect IMU.zacc and select IMU.xacc and IMU.yacc. Verify that the resulting graphs are close to zero. The drone is still flyable if the magnitudes of xacc and yacc deviate from 0 by less than 0.1 m/s^2. </li>"
   ]
  },
  {
   "cell_type": "markdown",
   "metadata": {},
   "source": [
    "<img src=\"https://github.mit.edu/BWSI/UAVRacing/blob/master/docs/images/xacc_yacc.png\">"
   ]
  },
  {
   "cell_type": "markdown",
   "metadata": {},
   "source": [
    "## Step 7: Radio Calibration (RC Controller)\n"
   ]
  },
  {
   "cell_type": "markdown",
   "metadata": {},
   "source": [
    "<li> Obtain the radio paired to your drone and select Radio from the left-most menu in QGroundControl. </li>"
   ]
  },
  {
   "cell_type": "markdown",
   "metadata": {},
   "source": [
    "<img src=\"https://github.mit.edu/BWSI/UAVRacing/blob/master/docs/images/radio.png\">"
   ]
  },
  {
   "cell_type": "markdown",
   "metadata": {},
   "source": [
    "<li> You will now zero the roll, pitch, yaw, and throttle. If the throttle is very low, as seen above, flip the \"ARM/DISARM\" switch to ARM. </li>"
   ]
  },
  {
   "cell_type": "markdown",
   "metadata": {},
   "source": [
    "#### Control surfaces pre-zeroing. (Your setup may vary)\n",
    "<img src=\"https://github.mit.edu/BWSI/UAVRacing/blob/master/docs/images/pre-trim-radio.png\">"
   ]
  },
  {
   "cell_type": "markdown",
   "metadata": {},
   "source": [
    "#### Trims, labeled on the radio.\n",
    "<img src=\"https://github.mit.edu/BWSI/UAVRacing/blob/master/docs/images/trims.JPG\">"
   ]
  },
  {
   "cell_type": "markdown",
   "metadata": {},
   "source": [
    "Ensure that both joysticks are centered as seen above, and then adjust the trims until the throttle, yaw, roll, and pitch are at the center of their sliders in QGroundControl.\n",
    "<img src=\"https://github.mit.edu/BWSI/UAVRacing/blob/master/docs/images/post-trim-radio.png\">"
   ]
  },
  {
   "cell_type": "markdown",
   "metadata": {},
   "source": [
    "<li> Select 'Calibrate' on the Radio screen in QGroundControl, and then select OK when prompted (because you just zeroed your trims/subtrims.) </li>\n",
    "<li> Follow the directions on screen for manipulating the joysticks. QGroundControl will detect the movement and continue through the calibration automatically. </li>\n",
    "<li> Note: You can ignore the direction to play with transmitter switches. </li>\n",
    "<li> Select OK to write the calibrated radio settings to your drone. </li>\n",
    "## You are now finished with calibration!"
   ]
  },
  {
   "cell_type": "code",
   "execution_count": null,
   "metadata": {},
   "outputs": [],
   "source": []
  }
 ],
 "metadata": {
  "kernelspec": {
   "display_name": "Python 3",
   "language": "python",
   "name": "python3"
  },
  "language_info": {
   "codemirror_mode": {
    "name": "ipython",
    "version": 3
   },
   "file_extension": ".py",
   "mimetype": "text/x-python",
   "name": "python",
   "nbconvert_exporter": "python",
   "pygments_lexer": "ipython3",
   "version": "3.6.5"
  }
 },
 "nbformat": 4,
 "nbformat_minor": 2
}
