{
 "cells": [
  {
   "cell_type": "markdown",
   "metadata": {},
   "source": [
    "# Module 2: Computer Vision"
   ]
  },
  {
   "cell_type": "markdown",
   "metadata": {},
   "source": [
    "## Unit 1: Kernels, Edges, Thresholds\n",
    "\n",
    "__Goal:__\n",
    "\n",
    "__Assignments:__\n",
    "\n",
    " 1. []"
   ]
  },
  {
   "cell_type": "markdown",
   "metadata": {},
   "source": [
    "## Unit 2: Regression, Line Parameterization\n",
    "__Goal:__\n",
    "\n",
    "__Assignments:__\n",
    "\n",
    " 1. []"
   ]
  },
  {
   "cell_type": "markdown",
   "metadata": {},
   "source": [
    "## Unit 3: AR Tag Theory\n",
    "__Goal:__\n",
    "\n",
    "__Assignments:__\n",
    "\n",
    " 1. []"
   ]
  },
  {
   "cell_type": "markdown",
   "metadata": {},
   "source": [
    "## Unit 4: Color Segmentation\n",
    "\n",
    "__Goal:__\n",
    "\n",
    "__Assignments:__\n",
    "\n",
    " 1. []"
   ]
  },
  {
   "cell_type": "markdown",
   "metadata": {},
   "source": [
    "## Unit 5: Optical Flow Theory\n",
    "\n",
    "__Goal:__\n",
    "\n",
    "__Assignments:__\n",
    "\n",
    " 1. []"
   ]
  },
  {
   "cell_type": "markdown",
   "metadata": {},
   "source": [
    "## _Challenge:_ Color-based Control\n",
    "\n",
    "The goal of this challenge is to see which team can come up with a best yaw control commands based on a pre-recorded video from the drone observing a color-marker (e.g. backpack, flag, etc). The image will be separated into three regions: yaw-left, do nothing, yaw-right. The goal is for teams to write a script that automatically generates the correct yaw-command based on which region the color-marker appears in. The team whose code produces the most accurate yaw-commands when compared to ground truth, wins.\n",
    "\n",
    "Note: the yaw commands won't actually control the drone since it's a pre-recorded video."
   ]
  },
  {
   "cell_type": "code",
   "execution_count": null,
   "metadata": {},
   "outputs": [],
   "source": []
  }
 ],
 "metadata": {
  "kernelspec": {
   "display_name": "Python 2",
   "language": "python",
   "name": "python2"
  },
  "language_info": {
   "codemirror_mode": {
    "name": "ipython",
    "version": 2
   },
   "file_extension": ".py",
   "mimetype": "text/x-python",
   "name": "python",
   "nbconvert_exporter": "python",
   "pygments_lexer": "ipython2",
   "version": "2.7.12"
  }
 },
 "nbformat": 4,
 "nbformat_minor": 2
}
