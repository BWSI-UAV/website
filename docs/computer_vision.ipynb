{
 "cells": [
  {
   "cell_type": "markdown",
   "metadata": {},
   "source": [
    "# Module 2: Computer Vision"
   ]
  },
  {
   "cell_type": "markdown",
   "metadata": {},
   "source": [
    "## Unit 1: Kernels, Edges, Thresholds\n",
    "\n",
    "__Goal:__\n",
    "\n",
    "__Practicals:__\n",
    "\n",
    " 1. [Derivatives](https://github.com/BWSI-UAV/laboratory/blob/master/computer_vision/derivatives_and_windows.ipynb)\n",
    " 2. [Convolution](https://github.com/BWSI-UAV/laboratory/blob/master/computer_vision/convolutions.ipynb)\n",
    " 3. [OpenCV](https://github.com/BWSI-UAV/laboratory/blob/master/computer_vision/convolutions.ipynb)"
   ]
  },
  {
   "cell_type": "markdown",
   "metadata": {},
   "source": [
    "## Unit 2: Regression, Line Parameterization\n",
    "\n",
    "__Goal:__\n",
    "\n",
    "__Practicals:__\n",
    "\n",
    " 1. [Linear Regression](https://github.com/BWSI-UAV/laboratory/blob/master/computer_vision/LinearRegression.ipynb)"
   ]
  },
  {
   "cell_type": "markdown",
   "metadata": {},
   "source": [
    "## Unit 3: Color Segmentation\n",
    "\n",
    "__Goal:__\n",
    "\n",
    "__Practicals:__\n",
    "\n",
    " 1. [Color Segmentation and Bounding Boxes]\n",
    " 2. [Drone-based ROS Bag Collection](downward_cam_bag.html)"
   ]
  },
  {
   "cell_type": "markdown",
   "metadata": {},
   "source": [
    "## Unit 4: Vision Messages in ROS\n",
    "\n",
    "__Goal:__ In order to utilize computer vision techniques for UAV control, we need to be able to pass information between our vision processes (i.e. ROS nodes) and our command/control processes in a parameterized format. The goal of this unit is to develop such ROS messages.\n",
    "\n",
    "__Practicals__\n",
    "\n",
    " 1. [Create Line Message]"
   ]
  },
  {
   "cell_type": "markdown",
   "metadata": {},
   "source": [
    "## Unit 5: Advanced Topics\n",
    "\n",
    "__Goal:__ Understand the theory behind some of the \"black box\" algorithms we have used thus far as well as the frontiers of computer vision research\n",
    "\n",
    "__Lectures:__\n",
    "\n",
    "1. [AR Tag Theory]\n",
    "2. [Optical Flow Theory]\n",
    "3. [Machine Learning]\n"
   ]
  },
  {
   "cell_type": "markdown",
   "metadata": {},
   "source": [
    "## _Challenge:_ Color-based Control\n",
    "\n",
    "The goal of this challenge is to see which team can come up with a best yaw control commands based on a pre-recorded video from the drone observing a color-marker (e.g. backpack, flag, etc). The image will be separated into three regions: yaw-left, do nothing, yaw-right. The goal is for teams to write a script that automatically generates the correct yaw-command based on which region the color-marker appears in. The team whose code produces the most accurate yaw-commands when compared to ground truth, wins.\n",
    "\n",
    "Note: the yaw commands won't actually control the drone since it's a pre-recorded video."
   ]
  },
  {
   "cell_type": "code",
   "execution_count": null,
   "metadata": {},
   "outputs": [],
   "source": []
  }
 ],
 "metadata": {
  "kernelspec": {
   "display_name": "Python 2",
   "language": "python",
   "name": "python2"
  },
  "language_info": {
   "codemirror_mode": {
    "name": "ipython",
    "version": 2
   },
   "file_extension": ".py",
   "mimetype": "text/x-python",
   "name": "python",
   "nbconvert_exporter": "python",
   "pygments_lexer": "ipython2",
   "version": "2.7.12"
  }
 },
 "nbformat": 4,
 "nbformat_minor": 2
}
