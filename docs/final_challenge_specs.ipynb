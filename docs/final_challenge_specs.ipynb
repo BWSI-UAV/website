{
 "cells": [
  {
   "cell_type": "markdown",
   "metadata": {},
   "source": [
    "# Final challenge specs\n",
    "## Main Challenge\n",
    "Full LED loop on, two randomly chosen obstacles on opposing side.\n",
    "Completion requires traveling 3 loops without crashing or interference.\n",
    "\n",
    "$ score = \\frac{30 \\times 60}{time + penalty} $\n",
    "\n",
    "$ time $: total amount of seconds spent traversing the course\n",
    "\n",
    "$ penalty $: total amount of time spent outside of given height range [.5 - .7 meters]\n",
    "             \n",
    "    meant to discourage traversing the whole course while staying at one height\n",
    "\n",
    "## Bonus Challenge 1: Orbiting\n",
    "Full LED loop on, robot must complete a lap while keeping a bright colored object in the center of its camera view\n",
    "Bright opject will be on a vertical stick.\n",
    "\n",
    "$ score = \\frac{10 \\times 30}{time + 2 \\times penalty} $\n",
    "\n",
    "$ time $: total amount of seconds spent traversing the course\n",
    "\n",
    "$ penalty $: total amount of time where object is 30+ pixels away from the center of the frame (measured from center of obj)\n",
    "\n",
    "## Bonus Challenge 2: Precision Placement\n",
    "Robot has object tied to its bottom via string, goal is to place object in a small target area (10x10cm)\n",
    "\n",
    "$ score = \\left\\{ \\begin{array}{rcl}\n",
    "30 & \\mbox{if bob in target area} \\\\\n",
    "0 & \\mbox{else}\n",
    "\\end{array}\\right. $\n",
    "\n",
    "## Bonus Challenge 3: Object Recognition\n",
    "Full LED loop on, have 3 pairs of objects.\n",
    "Put 3 objects along line on near side of loop, and a randomly chosen one on the other side behind a wall.\n",
    "\n",
    "Goal is to fly around back, detect the object, and land infront of the same one on the near side.\n",
    "\n",
    "$ score = \\left\\{ \\begin{array}{rcl}\n",
    "30 & \\mbox{if landed closest to correct object} \\\\\n",
    "0 & \\mbox{else}\n",
    "\\end{array}\\right. $\n",
    "\n",
    "## Bonus Challenge 4: Buoy observation\n",
    "Perform one loop around the LED track in under 30 seconds.\n",
    "3 vertical sticks with bright tape at the top will be placed inside the loop.\n",
    "The bouys will be spaced evenly while staying collinear.\n",
    "\n",
    "$ score = 10 \\times \\frac{time_a + time_b + time_c}{time} $\n",
    "\n",
    "$ time_a, \\space time_b, \\space time_c $: total time spent with buoy a, b, or c in view\n",
    "\n",
    "$ time $: total time spent completing loop"
   ]
  },
  {
   "cell_type": "code",
   "execution_count": null,
   "metadata": {},
   "outputs": [],
   "source": []
  }
 ],
 "metadata": {
  "kernelspec": {
   "display_name": "Python 2",
   "language": "python",
   "name": "python2"
  },
  "language_info": {
   "codemirror_mode": {
    "name": "ipython",
    "version": 2
   },
   "file_extension": ".py",
   "mimetype": "text/x-python",
   "name": "python",
   "nbconvert_exporter": "python",
   "pygments_lexer": "ipython2",
   "version": "2.7.12"
  }
 },
 "nbformat": 4,
 "nbformat_minor": 2
}
