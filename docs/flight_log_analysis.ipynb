{
 "cells": [
  {
   "cell_type": "markdown",
   "metadata": {},
   "source": [
    "# Flight Log Analysis\n",
    "\n",
    "In this unit we will learn how to analyze post-flight telemetry data which is a crucial skill for debugging when things go wrong or the UAV doesn't behave as expected"
   ]
  },
  {
   "cell_type": "markdown",
   "metadata": {},
   "source": [
    "## Install Analysis Tools\n",
    "\n",
    "[**Reference: Dronecode Documentation**](https://dev.px4.io/en/log/flight_log_analysis.html)\n",
    "\n",
    "The above reference list several software tools that can be used to analyze flight data from a PX4-based UAV. We will use [FlightPlot](https://github.com/PX4/FlightPlot) due to it's intuitive interface.\n",
    "\n",
    "1. Download the most recent version of the flightplot.jar.zip file here: https://github.com/PX4/FlightPlot/releases (at time of writing this, the most recent version was v0.3.2: https://github.com/PX4/FlightPlot/releases/download/0.3.2/flightplot.jar.zip)\n",
    "2. Go to download and unzip jar file: `unzip flightplot.jar.zip`.\n",
    "3. Move the .jar file to the same directory you plan to keep flight logs: `mv flightplot.jar ~/<path-to-flight-logs>/`\n",
    "4. Run application: `java -jar flightplot.jar`"
   ]
  },
  {
   "cell_type": "markdown",
   "metadata": {},
   "source": [
    "## Analyze Pre-recorded Flight\n",
    "\n",
    "To practice using FlightPlot we have recorded data from a test flight that you will download (i.e. clone from GitHub) and analyze\n"
   ]
  },
  {
   "cell_type": "markdown",
   "metadata": {},
   "source": [
    "### Import Data\n",
    "\n"
   ]
  },
  {
   "cell_type": "markdown",
   "metadata": {},
   "source": [
    "### Problem Set\n",
    "\n"
   ]
  },
  {
   "cell_type": "markdown",
   "metadata": {},
   "source": [
    "## Analyze Your Flight"
   ]
  },
  {
   "cell_type": "code",
   "execution_count": null,
   "metadata": {},
   "outputs": [],
   "source": []
  }
 ],
 "metadata": {
  "kernelspec": {
   "display_name": "Python 3",
   "language": "python",
   "name": "python3"
  },
  "language_info": {
   "codemirror_mode": {
    "name": "ipython",
    "version": 3
   },
   "file_extension": ".py",
   "mimetype": "text/x-python",
   "name": "python",
   "nbconvert_exporter": "python",
   "pygments_lexer": "ipython3",
   "version": "3.6.5"
  }
 },
 "nbformat": 4,
 "nbformat_minor": 2
}
