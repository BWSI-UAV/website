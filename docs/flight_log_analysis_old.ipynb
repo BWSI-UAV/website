{
 "cells": [
  {
   "cell_type": "markdown",
   "metadata": {},
   "source": [
    "# Flight Log Analysis\n",
    "\n",
    "In this unit we will learn how to analyze post-flight telemetry data which is a crucial skill for debugging when things go wrong or the UAV doesn't behave as expected"
   ]
  },
  {
   "cell_type": "markdown",
   "metadata": {},
   "source": [
    "## Install Analysis Tools\n",
    "\n",
    "[**Reference: Dronecode Documentation**](https://dev.px4.io/en/log/flight_log_analysis.html)\n",
    "\n",
    "The above reference list several software tools that can be used to analyze flight data from a PX4-based UAV. We will use [FlightPlot](https://github.com/PX4/FlightPlot) due to it's intuitive interface.\n",
    "\n",
    "1. Download the most recent version of the flightplot.jar.zip file here: https://github.com/PX4/FlightPlot/releases (at time of writing this, the most recent version was v0.3.2: https://github.com/PX4/FlightPlot/releases/download/0.3.2/flightplot.jar.zip)\n",
    "2. Go to download and unzip jar file: `unzip flightplot.jar.zip`.\n",
    "3. Move the .jar file to the same directory you plan to keep flight logs: `mv flightplot.jar ~/<path-to-flight-logs>/`\n",
    "4. Run application: `java -jar flightplot.jar`"
   ]
  },
  {
   "cell_type": "markdown",
   "metadata": {},
   "source": [
    "## Analyze Pre-recorded Flight\n",
    "\n",
    "To practice using FlightPlot we have recorded data from a test flight that you will download (i.e. clone from GitHub) and analyze.\n"
   ]
  },
  {
   "cell_type": "markdown",
   "metadata": {},
   "source": [
    "### Import/Open Data\n",
    "\n",
    "Clone the prerecorded flight data from the `laboratory` repository on GitHub. Assuming you haven't already cloned this repo to your computer, run the following\n",
    "\n",
    "```\n",
    "cd ~/\n",
    "git clone https://github.com/BWSI-UAV/laboratory.git\n",
    "```\n",
    "\n",
    "Navigate to where you saved `flightplot.jar` and run it with: `java -jar flightplot.jar`. Once started, open `example_flight_log.ulg`."
   ]
  },
  {
   "cell_type": "markdown",
   "metadata": {},
   "source": [
    "### Inspecting Data \n",
    "\n",
    "_TODO:_ COMPLETE THIS SECTION. DESCRIBE HOW TO OPEN FIELDS AND WHICH FIELDS ARE IMPORTANT TO INSPECT\n",
    "\n",
    "_NOTE:_ I WAS HAVING PROBLEMS ZOOMING IN ON THIS DATASET, PLOTS WOULD DISAPPEAR UNEXPECTEDLY. MAY BE PROBLEM WITH MY COMPUTER"
   ]
  },
  {
   "cell_type": "markdown",
   "metadata": {},
   "source": [
    "### Problem Set\n",
    "\n",
    "- At what time did the mode switch from Manual to Position Control?\n",
    "- What was the maximum velocity?\n",
    "- What was the maximum deviation between the estimate position and the target position?\n",
    "- Can you describe the pattern or shape of the flight path during the Position Control portion of the flight?\n",
    "- What is the maximum acceleration?\n",
    "- At what time did the drone take off? At what time did it land?\n",
    "- What is the maximum discrepancy between the estimate z-position and the height sensor reading?"
   ]
  },
  {
   "cell_type": "markdown",
   "metadata": {},
   "source": [
    "## Analyze Your Flight\n",
    "\n",
    "Now that you know how to use a flight log analysis tool, take a look at one of your flights. \n",
    "\n",
    "Your drone stores flight logs onboard in the location: `/var/lib/mavlink-router/`\n",
    "\n",
    "You will need to first copy the flight log from the drone to your computer in order to analyze it. To do this, we will use secure copy (scp). From your laptop run the following, replacing `<your-drone-name>` and `<timestamped-log-file-name>` with the name of your drone and the flight log name, respectively.\n",
    "\n",
    "```\n",
    "scp uav@<your-drone-name>.beaver.works:/var/lib/mavlink-router/<timestamped-log-file-name>.ulg ~/laboratory/flight_log_analysis/\n",
    "```\n",
    "\n",
    "Once copied, open the log in FlightPlot to review your flight data."
   ]
  },
  {
   "cell_type": "code",
   "execution_count": null,
   "metadata": {},
   "outputs": [],
   "source": []
  }
 ],
 "metadata": {
  "kernelspec": {
   "display_name": "Python 2",
   "language": "python",
   "name": "python2"
  },
  "language_info": {
   "codemirror_mode": {
    "name": "ipython",
    "version": 2
   },
   "file_extension": ".py",
   "mimetype": "text/x-python",
   "name": "python",
   "nbconvert_exporter": "python",
   "pygments_lexer": "ipython2",
   "version": "2.7.12"
  }
 },
 "nbformat": 4,
 "nbformat_minor": 2
}
