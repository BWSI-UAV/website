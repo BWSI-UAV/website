{
 "cells": [
  {
   "cell_type": "markdown",
   "metadata": {},
   "source": [
    "# Architecture Concept Review"
   ]
  },
  {
   "cell_type": "markdown",
   "metadata": {},
   "source": [
    "In this unit, you will be learning about the systems and software architectures we will be using to operate the Intel Ready-to-Fly (RTF) Drones during the next four weeks.\n",
    "\n",
    "We have found the following videos to be helpful in illustrating the drone's software structure, as well as its hardware features. (@Ross, not sure all are needed but please pick and choose which might be helpful)"
   ]
  },
  {
   "cell_type": "markdown",
   "metadata": {},
   "source": [
    "## Videos\n",
    "### Intel Aero in 5 minutes\n",
    "[![Intel Aero in 5mn](http://img.youtube.com/vi/7t7l885g8dI/0.jpg)](http://www.youtube.com/watch?v=7t7l885g8dI \"A1 - Intel Aero in 5mn\")\n",
    "\n",
    "### Usage Models\n",
    "[![Usage Models](http://img.youtube.com/vi/sLUyQYcc4vc/0.jpg)](http://www.youtube.com/watch?v=sLUyQYcc4vc \"A2 - Usage Models\")\n",
    "\n",
    "### Architecture Introduction\n",
    "[![Architecture Introduction](http://img.youtube.com/vi/LNE_rXldwIw/0.jpg)](http://www.youtube.com/watch?v=LNE_rXldwIw \"B1 - Architecture Introduction\")\n",
    "\n",
    "### Hardware Architecture\n",
    "[![Hardware Architecture](http://img.youtube.com/vi/pp_SDw1Ffcc/0.jpg)](http://www.youtube.com/watch?v=pp_SDw1Ffcc \"B2 - Hardware Architecture\")\n",
    "\n",
    "### 3D and Visual Sensors\n",
    "[![3D and Visual Sensors](http://img.youtube.com/vi/KR2aMg0AnjM/0.jpg)](http://www.youtube.com/watch?v=KR2aMg0AnjM \"B3 - 3D and Visual Sensors\")\n",
    "\n",
    "### Software Architecture\n",
    "[![Software Architecture](http://img.youtube.com/vi/nt4X90aHfjQ/0.jpg)](http://www.youtube.com/watch?v=nt4X90aHfjQ \"B4 - Software Architecture\")"
   ]
  },
  {
   "cell_type": "markdown",
   "metadata": {},
   "source": [
    "## Problem Set\n",
    "\n",
    "Please answer [these questions](https://github.com/BWSI-UAV/laboratory/blob/master/architecture_review/problem_set.md) based on the videos\n",
    "\n",
    "The team's [research specialist](https://bwsi-uav.github.io/website/team_roles.html#Research-Specialist) is to document the answers to the problem set in a markdown file, add, commit, and push to your team's `laboratory` repository."
   ]
  },
  {
   "cell_type": "code",
   "execution_count": null,
   "metadata": {},
   "outputs": [],
   "source": []
  }
 ],
 "metadata": {
  "kernelspec": {
   "display_name": "Python 2",
   "language": "python",
   "name": "python2"
  },
  "language_info": {
   "codemirror_mode": {
    "name": "ipython",
    "version": 2
   },
   "file_extension": ".py",
   "mimetype": "text/x-python",
   "name": "python",
   "nbconvert_exporter": "python",
   "pygments_lexer": "ipython2",
   "version": "2.7.12"
  }
 },
 "nbformat": 4,
 "nbformat_minor": 2
}
