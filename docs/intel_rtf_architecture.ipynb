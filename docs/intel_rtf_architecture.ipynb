{
 "cells": [
  {
   "cell_type": "markdown",
   "metadata": {},
   "source": [
    "# Architecture Concept Review"
   ]
  },
  {
   "cell_type": "markdown",
   "metadata": {},
   "source": [
    "In this unit, you will be learning about the systems and software architectures we will be using to operate the Intel Ready-to-Fly (RTF) Drones during the next four weeks.\n",
    "\n",
    "We have found the following videos to be helpful in illustrating the drone's software structure, as well as its hardware features. (@Ross, not sure all are needed but please pick and choose which might be helpful)"
   ]
  },
  {
   "cell_type": "markdown",
   "metadata": {},
   "source": [
    "## Videos\n",
    "### Intel Aero in 5 minutes\n",
    "[![Intel Aero in 5mn](http://img.youtube.com/vi/7t7l885g8dI/0.jpg)](http://www.youtube.com/watch?v=7t7l885g8dI \"A1 - Intel Aero in 5mn\")\n",
    "\n",
    "### Usage Models\n",
    "[![Usage Models](http://img.youtube.com/vi/sLUyQYcc4vc/0.jpg)](http://www.youtube.com/watch?v=sLUyQYcc4vc \"A2 - Usage Models\")\n",
    "\n",
    "### Architecture Introduction\n",
    "[![Architecture Introduction](http://img.youtube.com/vi/LNE_rXldwIw/0.jpg)](http://www.youtube.com/watch?v=LNE_rXldwIw \"B1 - Architecture Introduction\")\n",
    "\n",
    "### Hardware Architecture\n",
    "[![Hardware Architecture](http://img.youtube.com/vi/pp_SDw1Ffcc/0.jpg)](http://www.youtube.com/watch?v=pp_SDw1Ffcc \"B2 - Hardware Architecture\")\n",
    "\n",
    "### 3D and Visual Sensors\n",
    "[![3D and Visual Sensors](http://img.youtube.com/vi/KR2aMg0AnjM/0.jpg)](http://www.youtube.com/watch?v=KR2aMg0AnjM \"B3 - 3D and Visual Sensors\")\n",
    "\n",
    "### Software Architecture\n",
    "[![Software Architecture](http://img.youtube.com/vi/nt4X90aHfjQ/0.jpg)](http://www.youtube.com/watch?v=nt4X90aHfjQ \"B4 - Software Architecture\")"
   ]
  },
  {
   "cell_type": "markdown",
   "metadata": {},
   "source": [
    "## Problem Set\n",
    "\n",
    "Please answer the following questions based on the videos. For true/false question, if the statement is false, provide a description of why it is false.\n",
    "\n",
    "- What are some of the difference between the Intel Aero Drone (i.e. a research and development drone) vs other \"commercial\" or \"toy\" drones?\n",
    "- What are some current applications of autonomous drones? Can you think of any future applications as technology improves (e.g. faster, smaller, more efficient computers)?\n",
    "- The videos discussed 3 different ways to connect a to the drone via a computer; describe these 3 options. Which method have we been using so far?\n",
    "- How does the Aero Compute Board communicate with the Aero Flight Controller? \n",
    "- True or False: For manual flight control, the remote control communicates with the drone over wifi \n",
    "- Is optical flow responsible for mapping the environment? \n",
    "- Which sensor enables 3D visual mapping? \n",
    "- What is PX4 and where is it running on the drone? \n",
    "- Is the Aero Flight Controller running a Linux operating system? \n",
    "- A Velodyne lidar system uses the same sensing technology as the Intel RealSense. (True or False)\n",
    "- If I want to write a new, complex computer program for the drone, should I add it to the Aero Flight Controller firmware? \n",
    "- QGroundControl is a (blank) that runs on (blank).\n",
    "\n",
    "The team's [research specialist](https://bwsi-uav.github.io/website/team_roles.html#Research-Specialist) is to document the answers to the problem set in a markdown file (for example, you could call it architecture_answers.md), add, commit, and push to your team's `documents` repository."
   ]
  },
  {
   "cell_type": "code",
   "execution_count": null,
   "metadata": {},
   "outputs": [],
   "source": []
  }
 ],
 "metadata": {
  "kernelspec": {
   "display_name": "Python 2",
   "language": "python",
   "name": "python2"
  },
  "language_info": {
   "codemirror_mode": {
    "name": "ipython",
    "version": 2
   },
   "file_extension": ".py",
   "mimetype": "text/x-python",
   "name": "python",
   "nbconvert_exporter": "python",
   "pygments_lexer": "ipython2",
   "version": "2.7.12"
  }
 },
 "nbformat": 4,
 "nbformat_minor": 2
}
