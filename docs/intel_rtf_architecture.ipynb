{
 "cells": [
  {
   "cell_type": "markdown",
   "metadata": {},
   "source": [
    "# Architecture Concept Review"
   ]
  },
  {
   "cell_type": "markdown",
   "metadata": {},
   "source": [
    "In this unit, you will be learning about the systems and software architectures we will be using to operate the Intel Ready-to-Fly (RTF) Drones during the next four weeks.\n",
    "\n",
    "We have found the following videos to be helpful in illustrating the drone's software structure, as well as its hardware features. (@Ross, not sure all are needed but please pick and choose which might be helpful)"
   ]
  },
  {
   "cell_type": "markdown",
   "metadata": {},
   "source": [
    "## Videos\n",
    "### Intel Aero in 5 minutes\n",
    "[![Intel Aero in 5mn](http://img.youtube.com/vi/7t7l885g8dI/0.jpg)](http://www.youtube.com/watch?v=7t7l885g8dI \"A1 - Intel Aero in 5mn\")\n",
    "\n",
    "### Usage Models\n",
    "[![Usage Models](http://img.youtube.com/vi/sLUyQYcc4vc/0.jpg)](http://www.youtube.com/watch?v=sLUyQYcc4vc \"A2 - Usage Models\")\n",
    "\n",
    "### Architecture Introduction\n",
    "[![Architecture Introduction](http://img.youtube.com/vi/LNE_rXldwIw/0.jpg)](http://www.youtube.com/watch?v=LNE_rXldwIw \"B1 - Architecture Introduction\")\n",
    "\n",
    "### Hardware Architecture\n",
    "[![Hardware Architecture](http://img.youtube.com/vi/pp_SDw1Ffcc/0.jpg)](http://www.youtube.com/watch?v=pp_SDw1Ffcc \"B2 - Hardware Architecture\")\n",
    "\n",
    "### 3D and Visual Sensors\n",
    "[![3D and Visual Sensors](http://img.youtube.com/vi/KR2aMg0AnjM/0.jpg)](http://www.youtube.com/watch?v=KR2aMg0AnjM \"B3 - 3D and Visual Sensors\")\n",
    "\n",
    "### Software Architecture\n",
    "[![Software Architecture](http://img.youtube.com/vi/nt4X90aHfjQ/0.jpg)](http://www.youtube.com/watch?v=nt4X90aHfjQ \"B4 - Software Architecture\")"
   ]
  },
  {
   "cell_type": "markdown",
   "metadata": {},
   "source": [
    "## Problem Set\n",
    "\n",
    "1. How does the Aero Compute Board communicate with the Aero Flight Controller? \n",
    "2. For manual flight control, the remote control communicates with the drone over wifi \n",
    "3. Is optical flow responsible for mapping the environment? \n",
    "4. Which sensor enables 3D visual mapping? \n",
    "5. What is PX4 and where is it running on the drone? \n",
    "5. Is the Aero Flight controller running a Linux operating system? \n",
    "6. A Velodyne lidar system uses the same sensing technology as the Intel RealSense. (True or False)\n",
    "7. If I want to write a new, complex computer program for the drone, should I add it to the Aero Flight Controller firmware? \n",
    "8. QGroundControl is a (blank) that runs on (blank)."
   ]
  },
  {
   "cell_type": "code",
   "execution_count": null,
   "metadata": {},
   "outputs": [],
   "source": []
  }
 ],
 "metadata": {
  "kernelspec": {
   "display_name": "Python 3",
   "language": "python",
   "name": "python3"
  },
  "language_info": {
   "codemirror_mode": {
    "name": "ipython",
    "version": 3
   },
   "file_extension": ".py",
   "mimetype": "text/x-python",
   "name": "python",
   "nbconvert_exporter": "python",
   "pygments_lexer": "ipython3",
   "version": "3.6.5"
  }
 },
 "nbformat": 4,
 "nbformat_minor": 2
}
