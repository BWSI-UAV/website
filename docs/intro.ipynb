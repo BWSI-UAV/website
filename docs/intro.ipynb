{
 "cells": [
  {
   "cell_type": "markdown",
   "metadata": {},
   "source": [
    "# BWSI's Autonomous UAV Racing\n",
    "\n",
    "\n",
    "## Course Overview\n",
    "\n",
    "The objective of this course is to introduce you to all of the theory, software, hardware, and practical skills necessary to design and fly an autonomous unmanned aerial vehicle (UAV) through a structured, indoor obstacle course. This site attempts to aggregate and organize all of that content to help you learn the material as easily and quickly as possible.\n",
    "\n",
    "[![Final Challenge Demo - Phantom 2018](images/cover_photo_drone_flight.jpg)](https://drive.google.com/open?id=1HsiDlrG2ZOzvFGZi6J3fCFllCGCw0ZoB)\n"
   ]
  },
  {
   "cell_type": "markdown",
   "metadata": {},
   "source": [
    "## Beaver Works Summer Institute\n",
    "\n",
    "For more about other courses offered as part of Beaver Works Summer Institute, please see here: https://beaverworks.ll.mit.edu/CMS/bw/bwsi"
   ]
  },
  {
   "cell_type": "markdown",
   "metadata": {},
   "source": [
    "---"
   ]
  },
  {
   "cell_type": "code",
   "execution_count": null,
   "metadata": {},
   "outputs": [],
   "source": []
  }
 ],
 "metadata": {
  "kernelspec": {
   "display_name": "Python 2",
   "language": "python",
   "name": "python2"
  },
  "language_info": {
   "codemirror_mode": {
    "name": "ipython",
    "version": 2
   },
   "file_extension": ".py",
   "mimetype": "text/x-python",
   "name": "python",
   "nbconvert_exporter": "python",
   "pygments_lexer": "ipython2",
   "version": "2.7.12"
  }
 },
 "nbformat": 4,
 "nbformat_minor": 2
}
