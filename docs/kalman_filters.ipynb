{
 "cells": [
  {
   "cell_type": "markdown",
   "metadata": {},
   "source": [
    "# Kalman Filters\n",
    "\n",
    "Kalman filters are used extensively in autonomous systems and robotics. The PX4 firmware that does the low-level control on the Intel Aero RTF drone uses a type of Kalman filter to fuse information from different sensors in order estimate the drones position, velocity, orientation, and angular rates.\n",
    "\n",
    "While we don't have time to really dive into Kalman filters in this class, we've provided a set of advanced tutorials for people to work through if they want to learn more about this very important topic"
   ]
  },
  {
   "cell_type": "markdown",
   "metadata": {},
   "source": [
    " 1. [In-Depth: Kalman Filters](https://github.com/AtsushiSakai/PythonRobotics#extended-kalman-filter-localization)\n",
    " 2. [Double Integrator Kalman Filter](https://github.com/BWSI-UAV/laboratory/blob/master/control/linear_estimation_and_control.ipynb)\n",
    " 3. [Nonlinear Estimation & Control](https://github.com/BWSI-UAV/laboratory/blob/master/control/nonlinear_estimation_and_control.ipynb)"
   ]
  },
  {
   "cell_type": "code",
   "execution_count": null,
   "metadata": {},
   "outputs": [],
   "source": []
  }
 ],
 "metadata": {
  "kernelspec": {
   "display_name": "Python 3 (ipykernel)",
   "language": "python",
   "name": "python3"
  },
  "language_info": {
   "codemirror_mode": {
    "name": "ipython",
    "version": 3
   },
   "file_extension": ".py",
   "mimetype": "text/x-python",
   "name": "python",
   "nbconvert_exporter": "python",
   "pygments_lexer": "ipython3",
   "version": "3.6.13"
  }
 },
 "nbformat": 4,
 "nbformat_minor": 2
}
