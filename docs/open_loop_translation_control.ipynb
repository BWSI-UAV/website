{
 "cells": [
  {
   "cell_type": "markdown",
   "metadata": {},
   "source": [
    "# Open Loop Translation Control\n",
    "\n",
    "## Step 1: Write a Python Script\n",
    "\n",
    "Your first task in this module is to write a Python script that uses setpoint commands to make your UAV fly a square pattern.\n",
    "\n",
    "## Step 2: Setup for Test Flight:\n",
    "\n",
    "Follow these steps to prepare for a flight test:\n",
    "\n",
    "- Power on remote control\n",
    "- Power on the Intel RTF\n",
    "- Connect to the UAV via QGroundControl (need to know IP address from previous flights or connect a monitor and run ifconfig)\n",
    "- SSH into the UAV (you will need to have at least four terminals SSHed into the UAV)\n",
    "- In one terminal, start the teraranger and optical flow services:\n",
    "    \n",
    "    ~~~~\n",
    "    sudo systemctl start aero-teraranger.service\n",
    "    sudo systemctl start aero-optical-flow\n",
    "    ~~~~\n",
    "    \n",
    "<div class=\"alert alert-info\">\n",
    "**Note:** before you move on, go into QGroundControl and make sure the teraranger and optical flow are working properly. See [Verify Services](https://github.mit.edu/pages/BWSI/UAVRacing/enable_optical_flow.html#Step-3:-Verify-Services)\n",
    "</div>\n",
    "    \n",
    "- In the next terminal, start the ROS Master:\n",
    "\n",
    "    ~~~~\n",
    "    roscore\n",
    "    ~~~~\n",
    "- In a third terminal, start the mavros node:\n",
    "\n",
    "    ~~~~\n",
    "    rosrun mavros mavros_node _fcu_url:=tcp://127.0.0.1:5760 _system_id:=2\n",
    "    ~~~~\n",
    "\n",
    "- In a fourth terminal, `cd` into the catkin package the contains your open loop translation script. Run the script:\n",
    "\n",
    "    ~~~~\n",
    "    python <your_script>\n",
    "    ~~~~\n",
    "    \n",
    "## Step 3: Test Flight\n",
    "\n",
    "Once your code is running, you are now ready to fly. \n",
    "- Manually arm the motors and take off\n",
    "- Get the UAV stable in the air (it is highly recommend to switch into position mode after takeoff)\n",
    "- Once the UAV is stable, switch into offboard mode. This should prompt the UAV to fly its programmed course.\n",
    "- After you UAV has performed its flight path, manually retake control of the drone and land.\n"
   ]
  },
  {
   "cell_type": "code",
   "execution_count": null,
   "metadata": {},
   "outputs": [],
   "source": []
  }
 ],
 "metadata": {
  "kernelspec": {
   "display_name": "Python 2",
   "language": "python",
   "name": "python2"
  },
  "language_info": {
   "codemirror_mode": {
    "name": "ipython",
    "version": 2
   },
   "file_extension": ".py",
   "mimetype": "text/x-python",
   "name": "python",
   "nbconvert_exporter": "python",
   "pygments_lexer": "ipython2",
   "version": "2.7.14"
  }
 },
 "nbformat": 4,
 "nbformat_minor": 2
}
