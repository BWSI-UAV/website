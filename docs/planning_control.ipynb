{
 "cells": [
  {
   "cell_type": "markdown",
   "metadata": {},
   "source": [
    "# Module 3: Planning and Control\n",
    "\n"
   ]
  },
  {
   "cell_type": "markdown",
   "metadata": {},
   "source": [
    "## Unit 1: Coordinate Transforms\n",
    "\n",
    "__Goal:__ Students will understand the various reference frames involved with UAV navigation and how to perform transformation/rotations between frames.\n",
    "\n",
    "__Lecture:__\n",
    "\n",
    " 1. [Euler Angles, Matrices, & Quaternions]\n",
    "\n",
    "__Practicals:__\n",
    "\n",
    " 1. [Coordinate Transforms](https://bwsi-uav.github.io/website/reference_frames.html)"
   ]
  },
  {
   "cell_type": "markdown",
   "metadata": {},
   "source": [
    "## Unit 2: Bang-Bang Control\n",
    "\n",
    "__Goal:__ Gain a cursory knowledge of the concepts and results of Bang-Bang control"
   ]
  },
  {
   "cell_type": "markdown",
   "metadata": {},
   "source": [
    "## Unit 3: Vision-Based Control\n",
    "\n",
    "__Goal:__ Integrate the computer vision techniques learned in Module 2 in order to autonomously track a moving target with the drone\n",
    "\n",
    "__Practicals:__\n",
    "\n",
    " - [Yaw-Only Color Tracker](https://bwsi-uav.github.io/website/yaw_color_tracker.html)"
   ]
  },
  {
   "cell_type": "markdown",
   "metadata": {},
   "source": [
    "## Unit 4: PID Control"
   ]
  },
  {
   "cell_type": "markdown",
   "metadata": {},
   "source": [
    "## Unit 5: Line Following"
   ]
  },
  {
   "cell_type": "markdown",
   "metadata": {},
   "source": [
    "## Unit 6: Obstacle Maneuvers"
   ]
  },
  {
   "cell_type": "code",
   "execution_count": null,
   "metadata": {},
   "outputs": [],
   "source": []
  }
 ],
 "metadata": {
  "kernelspec": {
   "display_name": "Python 2",
   "language": "python",
   "name": "python2"
  },
  "language_info": {
   "codemirror_mode": {
    "name": "ipython",
    "version": 2
   },
   "file_extension": ".py",
   "mimetype": "text/x-python",
   "name": "python",
   "nbconvert_exporter": "python",
   "pygments_lexer": "ipython2",
   "version": "2.7.12"
  }
 },
 "nbformat": 4,
 "nbformat_minor": 2
}
