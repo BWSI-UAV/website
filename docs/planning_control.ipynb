{
 "cells": [
  {
   "cell_type": "markdown",
   "metadata": {},
   "source": [
    "# Module 3: Planning and Control\n",
    "\n",
    "## Unit 1: Open Loop Control\n",
    "\n",
    "__Goal:__ Teams will be able to control the motion of UAV using setpoint commands instead of the remote control\n",
    "\n",
    "__Assignments:__\n",
    "\n",
    " - [Open Loop Yaw Control]\n",
    " - [Open Loop Translation Control](https://github.mit.edu/pages/BWSI/UAVRacing/open_loop_translation_control.html)"
   ]
  },
  {
   "cell_type": "markdown",
   "metadata": {},
   "source": [
    "## _Challenge:_ Aerial Choreography \n",
    "\n",
    "__Goal:__ Teams will compete to generate the best drone \"dance routine\". If time and venue allow, we will also take a long exposure picture of the routine to see which team can produce the most creative line trace with the LEDs."
   ]
  },
  {
   "cell_type": "markdown",
   "metadata": {},
   "source": [
    "## Unit 2: Vision-Based Control\n",
    "\n",
    "__Goal:__ Integrate the computer vision techniques learned in Module 2 in order to autonomously track a moving target with the drone\n",
    "\n",
    "__Laboratories:__\n",
    "\n",
    " - [Yaw-Only Color Tracker](https://github.mit.edu/pages/BWSI/UAVRacing/yaw_color_tracker.html)"
   ]
  },
  {
   "cell_type": "code",
   "execution_count": null,
   "metadata": {},
   "outputs": [],
   "source": []
  }
 ],
 "metadata": {
  "kernelspec": {
   "display_name": "Python 2",
   "language": "python",
   "name": "python2"
  },
  "language_info": {
   "codemirror_mode": {
    "name": "ipython",
    "version": 2
   },
   "file_extension": ".py",
   "mimetype": "text/x-python",
   "name": "python",
   "nbconvert_exporter": "python",
   "pygments_lexer": "ipython2",
   "version": "2.7.14"
  }
 },
 "nbformat": 4,
 "nbformat_minor": 2
}
