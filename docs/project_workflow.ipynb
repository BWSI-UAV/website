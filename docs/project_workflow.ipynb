{
 "cells": [
  {
   "cell_type": "markdown",
   "metadata": {},
   "source": [
    "# Project Workflow \n",
    "\n",
    "__Objective:__ practice using Bash and Git commands within in a workflow that is fundamental to this class"
   ]
  },
  {
   "cell_type": "markdown",
   "metadata": {},
   "source": [
    "## Working with Bash\n",
    "\n",
    "__TO BE COMPLETE"
   ]
  },
  {
   "cell_type": "markdown",
   "metadata": {},
   "source": [
    "## Working with Git\n",
    "\n",
    "We will be using git and GitHub to manage all of our code and documentation throughout the course. During the online portion of this class you were exposed to some of the basics of git and GitHub. If you would like a refresher, check out the link below:\n",
    "\n",
    "https://guides.github.com/activities/hello-world/\n",
    "\n",
    "In order to collaborate within teams and across different hardware platforms (i.e. laptops, drones, etc), we will need to use some of the intermediate/advanced tools within git/GitHub, particularly [forking remote repositories](https://help.github.com/articles/pushing-to-a-remote/#remotes-and-forks). Our goal is to make these tools as easy to use as possible.\n",
    "\n",
    "The course instructors will distribute account names and access to teams. \n",
    "\n",
    "<div class=\"alert alert-warning\">\n",
    "\n",
    "**Warning:** \n",
    "\n",
    "Each member of each team should memorize the team's GitHub account password so everyone has access. The passwords should NOT be documented else their is a risk of someone else gaining access to your account.\n",
    "\n",
    "</div>"
   ]
  },
  {
   "cell_type": "markdown",
   "metadata": {},
   "source": [
    "## Testing Repository Setup\n",
    "\n",
    "We will now test that you have configured your drone directories and repositories correctly\n",
    "\n",
    "1. Instructors: push a new file called `git_hello_world.md` to https://github.com/BWSI-UAV/laboratory/project_workflow \n",
    "2. Research Specialist: uses ssh to connect to drone, and navigates to the `laboratory` repository.\n",
    "3. Research Specialist: pulls the new file with `git pull upstream master`. Open new file and add one line of text. Example: \"Hello! this is the (team name) team! My name is (your name), today's research specialist!\"\n",
    "4. Research Specialist: commit changes to `git_hello_world.md` locally on drone\n",
    "5. Team Members: In sequence each team member uses ssh to connect to drone (from their own laptop or team laptop), opens `git_hello_world.md`, adds another line of text (e.g. \"Hello this is (your name)!), and commits. At this point their should be 5 new lines in `git_hello_world.md`.\n",
    "6. Research Specialist: Connect to drone and push new commits to `git_hello_world.md` to your team's `laboratory` with `git push origin master`\n",
    "7. Team Members: In sequence each team member pulls the new commits to their own laptops with `git pull origin master`, modifies the file again to add another line (totaling 10 new lines from the start of the exercise), commits, and pushes back to team's repository\n",
    "\n",
    "### Stretch Goal: Merge Conflicts\n",
    "\n",
    "If time permits, we will also practice resolving conflicts in git. \n",
    "\n",
    "1. Instructors: introduce a change to `git_hello_world.md`\n",
    "2. Software Specialist: on personal laptop, attempt to pull upstream change to `git_hello_world.md` with `git pull upstream master`. Git will inform you that a conflict has occured\n",
    "3. Team: In 20 minutes, see if you are able to resolve the conflict without help from instructors. A successful resolution will create a file with all of the teams additoins as well as the instructors additions"
   ]
  }
 ],
 "metadata": {
  "kernelspec": {
   "display_name": "Python 2",
   "language": "python",
   "name": "python2"
  },
  "language_info": {
   "codemirror_mode": {
    "name": "ipython",
    "version": 2
   },
   "file_extension": ".py",
   "mimetype": "text/x-python",
   "name": "python",
   "nbconvert_exporter": "python",
   "pygments_lexer": "ipython2",
   "version": "2.7.12"
  }
 },
 "nbformat": 4,
 "nbformat_minor": 2
}
