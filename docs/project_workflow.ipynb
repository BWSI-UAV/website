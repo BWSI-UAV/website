{
 "cells": [
  {
   "cell_type": "markdown",
   "metadata": {},
   "source": [
    "# Project Workflow\n",
    "\n",
    "This unit covers a lot of the tools and workflows we will use throughout the course. "
   ]
  },
  {
   "cell_type": "markdown",
   "metadata": {},
   "source": [
    "## Managing Code and Documents\n",
    "\n",
    "### GitHub Accounts\n",
    "\n",
    "#### Team Accounts\n",
    "\n",
    "#### Personal Accounts"
   ]
  },
  {
   "cell_type": "markdown",
   "metadata": {},
   "source": [
    "### SSH and SCP\n",
    "\n",
    "### Drone Directory Structure\n",
    "\n",
    "Many of the instructions throughout this course assume that all drones have the same directory structure. This simplifies the lessons and debugging process\n",
    "\n",
    "<div class=\"alert alert-warning\">\n",
    "\n",
    "**Warning:** \n",
    "\n",
    "Due to the fast pace nature of this class that requires iterations and trial-and-error, we may need to \"wipe\" a drone's onboard computer and start from scratch at times. Therefore assume any code you have on the Intel RTF Drone __could be deleted at any time!__ Always backup any important code you are developing on your laptop and/or GitHub.\n",
    "\n",
    "</div>\n",
    "\n",
    "#### Catkin Workspace\n",
    "\n",
    "### Documents Repository\n",
    "\n",
    "### Git diff and merge conflicts"
   ]
  },
  {
   "cell_type": "markdown",
   "metadata": {},
   "source": [
    "## Text Editing\n",
    "\n",
    "### Visual Studio / Sublime\n",
    "\n",
    "### Basic Vim Commands"
   ]
  },
  {
   "cell_type": "code",
   "execution_count": null,
   "metadata": {},
   "outputs": [],
   "source": []
  }
 ],
 "metadata": {
  "kernelspec": {
   "display_name": "Python 2",
   "language": "python",
   "name": "python2"
  },
  "language_info": {
   "codemirror_mode": {
    "name": "ipython",
    "version": 2
   },
   "file_extension": ".py",
   "mimetype": "text/x-python",
   "name": "python",
   "nbconvert_exporter": "python",
   "pygments_lexer": "ipython2",
   "version": "2.7.12"
  }
 },
 "nbformat": 4,
 "nbformat_minor": 2
}
