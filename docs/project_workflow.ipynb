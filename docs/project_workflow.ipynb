{
 "cells": [
  {
   "cell_type": "markdown",
   "metadata": {},
   "source": [
    "# Project Workflow\n",
    "\n",
    "This unit covers a lot of the tools and workflows we will use throughout the course. "
   ]
  },
  {
   "cell_type": "markdown",
   "metadata": {},
   "source": [
    "## Managing Code and Documents\n",
    "\n",
    "We will be using git and GitHub to manage all of our code and documentation throughout the course. During the online portion of this class you were exposed to some of the basics of git and GitHub. If you would like a refresher, check out the link below:\n",
    "\n",
    "https://guides.github.com/activities/hello-world/\n",
    "\n",
    "In order to collaborate within teams and across different hardware platforms (i.e. laptops, drones, etc), we will need to use some of the intermediate/advanced tools within git/GitHub, particularly [forking remote repositories](https://help.github.com/articles/pushing-to-a-remote/#remotes-and-forks). Our goal is to make these tools as easy to use as possible.\n",
    "\n",
    "### GitHub Accounts\n",
    "\n",
    "Every team has been given a separate account on MIT's GitHub (https://github.mit.edu/) which is different from \"public\" GitHub (https://github.com). The use of an MIT account introduces some complications but allows teams to keep their work separate and private from other teams.\n",
    "\n",
    "The course instructors will distribute account names and access to teams. \n",
    "\n",
    "<div class=\"alert alert-warning\">\n",
    "\n",
    "**Warning:** \n",
    "\n",
    "Each member of each team should memorize the team's GitHub account password so everyone has access. The passwords should NOT be documented else their is a risk of someone else gaining access to your account.\n",
    "\n",
    "</div>"
   ]
  },
  {
   "cell_type": "markdown",
   "metadata": {},
   "source": [
    "### Drone Ubuntu Accounts"
   ]
  },
  {
   "cell_type": "markdown",
   "metadata": {},
   "source": [
    "### SSH and SCP\n",
    "\n",
    "### Drone Directory Structure\n",
    "\n",
    "Many of the instructions throughout this course assume that all drones have the same directory structure. This simplifies the lesson instructions and debugging process.\n",
    "\n",
    "With the drone setup in _\"desktop mode\"_ or using ssh to connect from your laptop, run the following commands on the drone to establish our working directories. Open a terminal with `Ctrl-Alt-T` and run:\n",
    "\n",
    "```\n",
    "cd ~/\n",
    "mkdir bwsi-uav\n",
    "mkdir -p ~/bwsi-uav/catkin_ws/src\n",
    "cd ~/bwsi-uav/catkin_ws/\n",
    "catkin_make\n",
    "```\n",
    "\n",
    "If the drone happens to already have a directory called `bwsi-uav` or `catkin_ws`, we will move these exist directories to a trash folder in order to avoid confusion. If this is the case, run `mkdir ~/trash` then `mv -r bwsi-uav/ trash/`\n",
    "\n",
    "<div class=\"alert alert-warning\">\n",
    "\n",
    "**Warning:** \n",
    "\n",
    "Due to the fast pace nature of this class that requires iterations and trial-and-error, we may need to \"wipe\" a drone's onboard computer and start from scratch at times. Therefore assume any code you have on the Intel RTF Drone __could be deleted at any time!__ Always backup any important code you are developing on your laptop and/or GitHub.\n",
    "\n",
    "</div>\n",
    "\n",
    "### Documents Repository\n",
    "\n",
    "### Git diff and merge conflicts"
   ]
  },
  {
   "cell_type": "markdown",
   "metadata": {},
   "source": [
    "## Text Editing\n",
    "\n",
    "### Visual Studio / Sublime\n",
    "\n",
    "### Basic Vim Commands"
   ]
  },
  {
   "cell_type": "code",
   "execution_count": null,
   "metadata": {},
   "outputs": [],
   "source": []
  }
 ],
 "metadata": {
  "kernelspec": {
   "display_name": "Python 2",
   "language": "python",
   "name": "python2"
  },
  "language_info": {
   "codemirror_mode": {
    "name": "ipython",
    "version": 3
   },
   "file_extension": ".py",
   "mimetype": "text/x-python",
   "name": "python",
   "nbconvert_exporter": "python",
   "pygments_lexer": "ipython3",
   "version": "3.6.5"
  }
 },
 "nbformat": 4,
 "nbformat_minor": 2
}
