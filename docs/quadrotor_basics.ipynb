{
 "cells": [
  {
   "cell_type": "markdown",
   "metadata": {},
   "source": [
    "# Module 1: Quadrotor Basics\n",
    "\n",
    "## Unit 0: Introductions\n",
    "\n",
    "__Goal:__ Introduce instructors & students, objectives for the course, assign teams, and understand individual responsibilities\n",
    "\n",
    "__Activities:__\n",
    "\n",
    " 1. [Personal Introductions]\n",
    " 2. [Team Roles and Responsibilities](https://bwsi-uav.github.io/website/team_roles.html)\n"
   ]
  },
  {
   "cell_type": "markdown",
   "metadata": {},
   "source": [
    "## Unit 1: Quadrotor Hands-On\n",
    "\n",
    "__Goal:__ Understand the constituent hardware components of a quadrotor by constructing an Intel Ready To Fly Drone (Intel RTF) from parts and perform RC-controlled flight\n",
    "\n",
    "__Laboratories:__\n",
    "\n",
    " 1. [Drone Setup]\n",
    " 2. [Sensor Calibration](https://bwsi-uav.github.io/website/calibration.html)\n",
    " 3. [Preflight Safety](https://bwsi-uav.github.io/website/safety_checklist.html#Flight-Prep)\n",
    " 4. [Manual Flight Demo](https://bwsi-uav.github.io/website/safety_checklist.html#Manual-Flight)\n",
    " 5. [Battery Charging](https://bwsi-uav.github.io/website/safety_checklist.html#Battery-Handling-&-Charging)\n",
    "\n",
    "__Assignments:__\n",
    "\n",
    " 1. [Project Workflow]\n",
    " 2. [Flight Log Data Review](https://bwsi-uav.github.io/website/flight_log_analysis.html)\n"
   ]
  },
  {
   "cell_type": "markdown",
   "metadata": {},
   "source": [
    "## Unit 2: Intel Ready To Fly Drone Architecture\n",
    "\n",
    "__Goal:__ Each student will have high-level, cursory understanding of the hardware and software involved with communication, sensing, flight control, high-level processing and how these components interact.\n",
    "\n",
    "__Assignments:__\n",
    "\n",
    " 1. [Architecture Concept Review](intel_rtf_architecture.html)"
   ]
  },
  {
   "cell_type": "markdown",
   "metadata": {},
   "source": [
    "## Unit 3: Onboard Software\n",
    "\n",
    "__Goal:__ Each student will be able to flash new software to the drone and write a \"Hello World\" message passed through the entire communication pipeline (ROS -> MAVLink -> uORB)\n",
    "\n",
    "__Assignments:__\n",
    "\n",
    " 1. [Communication Pipeline](communication_pipeline.html)\n",
    " "
   ]
  },
  {
   "cell_type": "markdown",
   "metadata": {},
   "source": [
    "## Unit 4: Onboard Sensors\n",
    "\n",
    "__Goal:__ Students will understand what sensors are present on the RTF Drone, what they can/cannot sense, and how to access streams of sensor data via uORB and ROS messages.\n",
    "\n",
    "__Laboratory:__\n",
    "\n",
    " 1.  [Accessing Video Streams]\n",
    " 2.  [Hovering with Optical Flow](https://bwsi-uav.github.io/website/enable_optical_flow.html)\n"
   ]
  },
  {
   "cell_type": "markdown",
   "metadata": {},
   "source": [
    "## Unit 5: Reference Frames\n",
    "\n",
    "__Goal:__ Students will understand the various reference frames involved with UAV navigation and how to perform transformation/rotations between frames.\n",
    "\n",
    "__Assignments:__\n",
    "\n",
    " 1. [Using Reference Frames](https://bwsi-uav.github.io/website/reference_frames.html)"
   ]
  },
  {
   "cell_type": "markdown",
   "metadata": {},
   "source": [
    "## Unit 6: Localization\n",
    "\n",
    "__Goal:__ Understand the various localization strategies that autonomous systems can employ to estimate their position in the world: GPS, SLAM, visual fiducials. Get hands-on experience with localization by developing a rosnode that uses an AR tag to estimate pose of quadrotor relative to the tag.\n",
    "\n",
    "__Assignments:__\n",
    "\n",
    " 1. [AR Tag Localization]"
   ]
  },
  {
   "cell_type": "markdown",
   "metadata": {},
   "source": [
    "## _Challenge 1:_ Position Control Navigation\n",
    "\n",
    "__Goal:__ All teams' UAVs are capable of a stable, autonomous hover using optical flow, even when disturbed by a bump or wind. With this capability, teams will compete to see who can execute a small circuit as quickly and accurately as possible while remotely operating the drone in position control mode.\n",
    "\n",
    "The circuit will consist of a set of AR tags on the ground that must be visited in a certain order. A tag is considered visited once a ROS message is passed that contains the tag ID. Score is a weighted combination of time to visit all tags and accuracy of passing directly above each tag at height of 1 meter.\n",
    "\n",
    "__Assignments:__\n",
    "\n",
    " 1. [Challenge Report]"
   ]
  },
  {
   "cell_type": "markdown",
   "metadata": {},
   "source": [
    "## Unit 7: Open Loop Control\n",
    "\n",
    "__Goal:__ Teams will be able to control the motion of UAV using setpoint commands instead of the remote control\n",
    "\n",
    "__Assignments:__\n",
    "\n",
    " - [Open Loop Yaw Control]\n",
    " - [Open Loop Translation Control](https://bwsi-uav.github.io/website/open_loop_translation_control.html)"
   ]
  },
  {
   "cell_type": "markdown",
   "metadata": {},
   "source": [
    "## _Challenge 2:_ Aerial Choreography \n",
    "\n",
    "__Goal:__ Teams will compete to generate the best drone \"dance routine\". If time and venue allow, we will also take a long exposure picture of the routine to see which team can produce the most creative line trace with the LEDs."
   ]
  },
  {
   "cell_type": "code",
   "execution_count": null,
   "metadata": {},
   "outputs": [],
   "source": []
  }
 ],
 "metadata": {
  "kernelspec": {
   "display_name": "Python 2",
   "language": "python",
   "name": "python2"
  },
  "language_info": {
   "codemirror_mode": {
    "name": "ipython",
    "version": 2
   },
   "file_extension": ".py",
   "mimetype": "text/x-python",
   "name": "python",
   "nbconvert_exporter": "python",
   "pygments_lexer": "ipython2",
   "version": "2.7.12"
  }
 },
 "nbformat": 4,
 "nbformat_minor": 2
}
