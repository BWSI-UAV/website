{
 "cells": [
  {
   "cell_type": "markdown",
   "metadata": {},
   "source": [
    "# Module 1: Hands-On Quadrotors\n",
    "\n",
    "## Unit 0: Introductions\n",
    "\n",
    "__Goal:__ Introduce instructors & students, objectives for the course, assign teams, and understand individual responsibilities\n",
    "\n",
    "__Lectures:__\n",
    "\n",
    " 1. [Personal Introductions](https://docs.google.com/presentation/d/1Gfr472InI9QH1eIWXN7DdQv2LDH1NdkR0HbT7idqoF8/edit?usp=sharing)\n",
    " 2. [Team Roles and Responsibilities](https://bwsi-uav.github.io/website/team_roles.html)\n"
   ]
  },
  {
   "cell_type": "markdown",
   "metadata": {},
   "source": [
    "## Unit 1: Quadrotor Hands-On\n",
    "\n",
    "__Goal:__ Understand the constituent hardware components of a quadrotor by constructing an Intel Ready To Fly Drone (Intel RTF) from parts and perform RC-controlled flight\n",
    "\n",
    "__Lectures:__\n",
    "\n",
    " 1. [Repository Structure](https://docs.google.com/presentation/d/1M-5IOTDlP4XkRy8c_6W5KSo7d45keXrfQQf4F43HNbc/edit?usp=sharing)\n",
    "\n",
    "__Practicals:__\n",
    "\n",
    " 1. [Project Workflow](project_workflow.html)\n",
    " 1. [Drone Setup](https://bwsi-uav.github.io/website/student_drone_setup.html)\n",
    " 2. [Sensor Calibration](https://bwsi-uav.github.io/website/calibration.html)\n",
    " 3. [Preflight Safety](https://bwsi-uav.github.io/website/safety_checklist.html#Flight-Prep)\n",
    " 4. [Manual Flight Demo](https://bwsi-uav.github.io/website/safety_checklist.html#Manual-Flight)\n",
    " 5. [Battery Charging](https://bwsi-uav.github.io/website/safety_checklist.html#Battery-Handling-&-Charging)\n",
    " 2. [Flight Log Data Review](https://bwsi-uav.github.io/website/flight_log_analysis.html)\n"
   ]
  },
  {
   "cell_type": "markdown",
   "metadata": {},
   "source": [
    "## Unit 2: Intel Ready To Fly Drone Architecture\n",
    "\n",
    "__Goal:__ Each student will have high-level, cursory understanding of the hardware and software involved with communication, sensing, flight control, high-level processing and how these components interact.\n",
    "\n",
    "__Lectures:__\n",
    "\n",
    " 1. [Embedded Architecture](https://docs.google.com/presentation/d/1NM_zhKeS3VZPtb2EkU6StyMRoMKa0-0_welNjtJ7g70/edit?usp=sharing)\n",
    "\n",
    "__Practicals:__\n",
    "\n",
    " 1. [Architecture Concept Review](intel_rtf_architecture.html)"
   ]
  },
  {
   "cell_type": "markdown",
   "metadata": {},
   "source": [
    "## Unit 3: Onboard Software\n",
    "\n",
    "__Goal:__ Each student will be able to flash new software to the drone and write a \"Hello World\" message passed through the entire communication pipeline (ROS -> MAVLink -> uORB)\n",
    "\n",
    "__Practicals:__\n",
    "\n",
    " 1. [Communication Pipeline](communication_pipeline.html)\n",
    " \n",
    "__Advanced Topics:__\n",
    "\n",
    " 1. [Flashing PX4 Firmware]\n",
    " 2. [uORB Listener]\n",
    " 2. [PX4 Hello World App]\n",
    " "
   ]
  },
  {
   "cell_type": "markdown",
   "metadata": {},
   "source": [
    "## Unit 4: Onboard Sensors\n",
    "\n",
    "__Goal:__ Students will understand what sensors are present on the RTF Drone, what they can/cannot sense, and how to access streams of sensor data via uORB and ROS messages.\n",
    "\n",
    "__Practicals:__\n",
    "\n",
    " 1. [Accessing Video Streams](https://bwsi-uav.github.io/website/accessing_video_streams.html)\n",
    " 2. [Inspecting Sensor Feeds](https://bwsi-uav.github.io/website/internal_sensor_testing.html)\n",
    " \n",
    "__Advanced Topics:__\n",
    "\n",
    " 1. [3D Imaging with RealSense]\n"
   ]
  },
  {
   "cell_type": "markdown",
   "metadata": {},
   "source": [
    "## Unit 5: Localization\n",
    "\n",
    "__Goal:__ Understand the various localization strategies that autonomous systems can employ to estimate their position in the world: GPS, SLAM, visual fiducials. Get hands-on experience with localization by developing a rosnode that uses an AR tag to estimate pose of quadrotor relative to the tag.\n",
    "\n",
    "__Lectures:__\n",
    "\n",
    " 1. [Localization & Reference Frames](https://drive.google.com/open?id=1rK3u_lXTh7Ll2Ary081B60LEh27l5DQsIuK4U0Yw1JM)\n",
    "\n",
    "__Practicals:__\n",
    "\n",
    " 1. [Hovering with Optical Flow](https://bwsi-uav.github.io/website/enable_optical_flow.html)\n",
    " 2. [ARTag Localization](ar_localization.html)"
   ]
  },
  {
   "cell_type": "markdown",
   "metadata": {},
   "source": [
    "## _Challenge 1:_ Position Control Navigation\n",
    "\n",
    "__Goal:__ All teams' UAVs are capable of a stable, autonomous hover using optical flow, even when disturbed by a bump or wind. With this capability, teams will compete to see who can execute a small circuit as quickly and accurately as possible while remotely operating the drone in position control mode.\n",
    "\n",
    "The circuit will consist of a set of AR tags on the walls that must be visited in a certain order. A tag is considered visited once a ROS message is passed that contains the tag ID. Score is a weighted combination of time to visit all tags and accuracy of passing directly in front of the marker at a specified distance\n",
    "\n",
    "__Assignments:__\n",
    "\n",
    " 1. [Challenge Report]"
   ]
  },
  {
   "cell_type": "markdown",
   "metadata": {},
   "source": [
    "## Unit 6: Open Loop Control\n",
    "\n",
    "__Goal:__ Teams will be able to control the motion of UAV using setpoint commands instead of the remote control\n",
    "\n",
    "__Practicals:__\n",
    "\n",
    " - [Open Loop Yaw Control]\n",
    " - [Open Loop Translation Control](https://bwsi-uav.github.io/website/open_loop_translation_control.html)"
   ]
  },
  {
   "cell_type": "markdown",
   "metadata": {},
   "source": [
    "## _Challenge 2:_ Aerial Choreography \n",
    "\n",
    "__Goal:__ Teams will compete to generate the best drone \"dance routine\". If time and venue allow, we will also take a long exposure picture of the routine to see which team can produce the most creative line trace with the LEDs.\n",
    "\n",
    "__Assignments:__\n",
    "\n",
    " 1. [Challenge Report]"
   ]
  },
  {
   "cell_type": "code",
   "execution_count": null,
   "metadata": {},
   "outputs": [],
   "source": []
  }
 ],
 "metadata": {
  "kernelspec": {
   "display_name": "Python 2",
   "language": "python",
   "name": "python2"
  },
  "language_info": {
   "codemirror_mode": {
    "name": "ipython",
    "version": 2
   },
   "file_extension": ".py",
   "mimetype": "text/x-python",
   "name": "python",
   "nbconvert_exporter": "python",
   "pygments_lexer": "ipython2",
   "version": "2.7.12"
  }
 },
 "nbformat": 4,
 "nbformat_minor": 2
}
