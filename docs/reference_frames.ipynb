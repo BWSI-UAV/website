{
 "cells": [
  {
   "cell_type": "markdown",
   "metadata": {},
   "source": [
    "#  Coordinate Frames\n",
    "\n",
    "The purpose of this module is to understand the various reference frames used to orient and control the UAV and practice transforming information between these frames. The major takeaways are:\n",
    " \n",
    " - The most common reference frames we will use are the North-East-Down (NED), East-North-Up (ENU), Body, and Camera.\n",
    " - The same vector can be expressed in difference reference frames\n",
    " - There are multiple ways in which we can express the difference between two reference frames including euler angles (yaw, pitch, roll), rotation matrices, and quaternions\n",
    " - The `tf` and `tf_static` ROS topics are a useful way of communicating reference frame information on the Aero Compute Board\n",
    " - The `/mavros/local_position/pose` and `/mavros/local_position/velocity` topics provide the estimated pose and velocity of the UAV's body frame with respect to the world frame (i.e. NED or ENU)\n",
    "\n",
    "## Further Reading\n",
    "\n",
    "- PX4 Documentation: https://dev.px4.io/en/ros/external_position_estimation.html\n",
    "\n"
   ]
  },
  {
   "cell_type": "code",
   "execution_count": null,
   "metadata": {},
   "outputs": [],
   "source": []
  }
 ],
 "metadata": {
  "kernelspec": {
   "display_name": "Python 3",
   "language": "python",
   "name": "python3"
  },
  "language_info": {
   "codemirror_mode": {
    "name": "ipython",
    "version": 3
   },
   "file_extension": ".py",
   "mimetype": "text/x-python",
   "name": "python",
   "nbconvert_exporter": "python",
   "pygments_lexer": "ipython3",
   "version": "3.6.5"
  }
 },
 "nbformat": 4,
 "nbformat_minor": 2
}
