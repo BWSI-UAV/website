{
 "cells": [
  {
   "cell_type": "markdown",
   "metadata": {},
   "source": [
    "# Intro to ROS\n",
    "\n",
    "The Robot Operating System (ROS) is a central component to our drone's autonomy. ROS offers a powerful set of tools for interfacing between multiple heterogeneous computer processes, which is a common theme of robotics due to that fact that robots are often composed of a system of processors, sensors, and actuators. \n",
    "\n",
    "The following set of video lectures, slides, and blog offer a concise introduction to ROS\n",
    "\n",
    "\n",
    "<div class=\"alert alert-info\">\n",
    "\n",
    "**Note:** \n",
    "\n",
    "The following ETH and Erle lectures reference an older version of ROS called `indigo`. At the time of this writing we use a version called `kinetic` (and will likely be moving to a version called `melodic` in the near future). For the most part, any commands that explicitly reference `indigo` can substituted with the same command where `kinetic` is used in place of `indigo`. \n",
    "\n",
    "Example: `source /opt/ros/indigo/setup.bash` --> `source /opt/ros/kinetic/setup.bash`\n",
    "\n",
    "</div>\n",
    "\n",
    "__Erle Robotics:__ [Blog](https://erlerobotics.com/blog/ros-introduction/), [Videos](https://www.youtube.com/playlist?list=PL39WpgKDjDfVfiNVG47DBi93wsh2XHKVO)\n",
    "\n",
    "__ETH Zurich:__ [Slides](https://www.ethz.ch/content/dam/ethz/special-interest/mavt/robotics-n-intelligent-systems/rsl-dam/ROS2017/lecture1.pdf), [Video](https://www.youtube.com/watch?v=0BxVPCInS3M)\n",
    "\n",
    "__Practice:__ \n",
    "+ [Communication Pipeline](communication_pipeline.html) - Once you've completed watching the lecture, practice what you've learned in the practical\n",
    "+ [Further Practice](http://wiki.ros.org/ROS/Tutorials) - For additional tutorials, see the ROS website\n"
   ]
  },
  {
   "cell_type": "markdown",
   "metadata": {},
   "source": [
    "## ROS Concepts\n",
    "\n"
   ]
  }
 ],
 "metadata": {
  "kernelspec": {
   "display_name": "Python 3",
   "language": "python",
   "name": "python3"
  },
  "language_info": {
   "codemirror_mode": {
    "name": "ipython",
    "version": 3
   },
   "file_extension": ".py",
   "mimetype": "text/x-python",
   "name": "python",
   "nbconvert_exporter": "python",
   "pygments_lexer": "ipython3",
   "version": "3.6.5"
  }
 },
 "nbformat": 4,
 "nbformat_minor": 2
}
