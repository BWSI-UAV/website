{
 "cells": [
  {
   "cell_type": "markdown",
   "metadata": {},
   "source": [
    "# Student Drone Setup"
   ]
  },
  {
   "cell_type": "markdown",
   "metadata": {},
   "source": [
    "This documentation will introduce you to the physical setup required to use the drone in 'desktop mode' and connect via WiFi to the drone, as well as specific instructions on how to setup the drone's directory structure."
   ]
  },
  {
   "cell_type": "markdown",
   "metadata": {},
   "source": [
    "## Physical Setup\n",
    "1. Locate your team backpack and have the team hardware specialist start unpacking in accordance with the following directions.\n",
    "2. Connect your white power strip to a nearby wall tap. \n",
    "3. Plug in your Eyoyo display to the white strip using a DC power supply that fits into the DC IN port on the Eyoyo. Next, take the Micro HDMI to HDMI cable and plug it into the Micro HDMI port on the drone. \n",
    "\n",
    "\n",
    "![micro-hdmi.jpg](https://github.com/BWSI-UAV/website/blob/master/docs/images/micro-hdmi.jpg?raw=tru)\n",
    "\n",
    "\n",
    "\n",
    "4. If your drone's USB cable is attached to another cable (leading to a sensor on the drone), ask an instructor to help you unplug the USB cable. You will then be able to connect it to the USB hub in your backpack, which will be powered by a USB to wall plug adapter. Attach the keyboard and mouse to this hub. \n",
    "5. Take the wall plug to XT60 (yellow battery plug) adapter and attach it to the drone's XT60 port, located near the power button.\n",
    "6. Press the power button on the drone. It should light up white and blue, and the fan should begin to spin.\n",
    "7. If prompted, press enter twice when the Ubuntu boot screens appear on the Eyoyo. Alternatively, you can let the bootloader select the correct version for you by not touching any keys/mouse for roughly 10 seconds.\n",
    "8. You are now on your drone! Proceed to Logging In."
   ]
  },
  {
   "cell_type": "markdown",
   "metadata": {},
   "source": [
    "## Logging In\n",
    "1. You will be prompted for a password when you log in to your drone. Ask an instructor for the password to your drone.\n",
    "2. You are now logged into the drone.\n",
    "3. You will now learn how to SSH (secure shell) into your drone. This will allow you to run terminal commands over WiFi without using the Eyoyo/keyboard/mouse (desktop mode) combo. \n",
    "4. Ground Commander: Open your team laptop, and open a Terminal window (using Terminator/Terminal). \n",
    "5. Type `ssh -Y uav@<yourteam>.beaver.works` and press Enter. (replace `<yourteam>` with the hostname of the drone, listed on the drone's terminal as `uav@<yourteam>`)\n",
    "6. When prompted for the password, use the previously obtained drone password to login. SSH (and other Bash utilities) will not show the password as you type it.\n",
    "7. If prompted, type `yes` and press enter.\n",
    "8. You should now be connected to the drone via SSH over WiFi. "
   ]
  },
  {
   "cell_type": "markdown",
   "metadata": {},
   "source": [
    "## Software Setup\n",
    "### Logging into MIT Github\n",
    "Each team has an account on github.mit.edu tied to its email account. The general format is `bwsiuav+<teamname>@gmail.com` and the password is as given by the instructors. \n",
    "\n",
    "1. Visit github.mit.edu on your team laptop and login using the aforementioned credentials under Touchstone Collaboration. \n",
    "2. Click on your profile photo in the top right corner and go to settings.\n",
    "3. Click SSH and GPG Keys. Keep this window open while you follow the next few steps.\n",
    "\n",
    "### Git and SSH Keys\n",
    "1. On the Terminal window in which you SSH'd into the drone, (it will say `uav@<teamname>:`) follow the following instructions on how to generate an SSH key for Github: https://help.github.com/articles/generating-a-new-ssh-key-and-adding-it-to-the-ssh-agent/\n",
    "\n",
    "\n",
    "\n",
    "<div class=\"alert alert-info\">\n",
    "\n",
    "**Note:** \n",
    "\n",
    "Be sure to use your team's email, as listed above, for `your_email@example.com`. It is also unnecessary to have a passphrase on the SSH key. \n",
    "\n",
    "</div>\n",
    "\n",
    "\n",
    "\n",
    "2. Once complete, follow these directions about adding your newly minted SSH key to the MIT Github account: https://help.github.com/articles/adding-a-new-ssh-key-to-your-github-account/ \n",
    "\n",
    "**Be sure you are using github.mit.edu NOT github.com to submit the SSH key.**\n",
    "\n",
    "\n",
    "\n",
    "### Directory Setup\n",
    "1. On the SSH window on your team laptop, enter the following commands\n",
    "```\n",
    "cd ~\n",
    "mkdir -p ~/bwsi-uav/catkin_ws/src\n",
    "cd ~/bwsi-uav/catkin_ws\n",
    "catkin_make\n",
    "echo \"source ~/bwsi-uav/catkin_ws/devel/setup.bash\" >> ~/.bashrc\n",
    "source ~/.bashrc\n",
    "cd src\n",
    "git clone https://github.com/BWSI-UAV/aero_control.git\n",
    "cd ~/bwsi-uav\n",
    "git clone https://github.com/BWSI-UAV/laboratory.git\n",
    "mkdir documents\n",
    "cd documents\n",
    "git init\n",
    "git add .\n",
    "git commit -m \"First commit\"\n",
    "```\n",
    "2. Go to github.mit.edu on the team laptop with your team's Github account. Make a new private repository titled `documents` and copy the remote repository URL found here:\n",
    "![copy-remote-repository-url-quick-setup.png](https://help.github.com/assets/images/help/repository/copy-remote-repository-url-quick-setup.png)\n",
    "\n",
    "\n",
    "3. Go to the SSH'd terminal window and type the following commands:\n",
    "\n",
    "```\n",
    "cd ~/bwsi-uav/documents\n",
    "git remote add origin <remote repo URL, pasted>\n",
    "git remote -v\n",
    "git push origin master\n",
    "```\n",
    "where <remote repo URL, pasted> is the URL you have just copied from github.mit.edu.\n",
    "\n"
   ]
  },
  {
   "cell_type": "code",
   "execution_count": null,
   "metadata": {},
   "outputs": [],
   "source": []
  }
 ],
 "metadata": {
  "kernelspec": {
   "display_name": "Python 3",
   "language": "python",
   "name": "python3"
  },
  "language_info": {
   "codemirror_mode": {
    "name": "ipython",
    "version": 3
   },
   "file_extension": ".py",
   "mimetype": "text/x-python",
   "name": "python",
   "nbconvert_exporter": "python",
   "pygments_lexer": "ipython3",
   "version": "3.6.5"
  }
 },
 "nbformat": 4,
 "nbformat_minor": 2
}
