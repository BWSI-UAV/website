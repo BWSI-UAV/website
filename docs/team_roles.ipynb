{
 "cells": [
  {
   "cell_type": "markdown",
   "metadata": {},
   "source": [
    "# Team Roles\n",
    "\n",
    "Each member of a team serves a different role with unique responsibilities. Sometimes an individual may be responsible for multiple tasks simultaneously; in this case the individual team member is expected to delegate tasks to other team members who are not currently active.\n",
    "\n",
    "<div class=\"alert alert-info\">\n",
    "\n",
    "**Note:** \n",
    "\n",
    "It is not the responsibility of each role to _do_ each of the tasks listed, it is their responsibility to make sure _make sure they get done_.\n",
    "\n",
    "</div>\n",
    "\n",
    "## Pilot in Command\n",
    "The pilot in command is responsible for the safe execution of flight tests including test prep, manual override piloting, and test tear down. When not conducting a flight test, the pilot in command plays a support role to other specialist roles.\n",
    "\n",
    "## Software Specialist\n",
    "The software specialist is responsible for maintaining the teams codebase and operating the ground station during flight tests. \n",
    "\n",
    "__Responsibilities include:__\n",
    " - Pulling, merging new code from GitHub\n",
    " - Translating team's ideas to functional, well commented code\n",
    " - Committing and pushing developed code back to GitHub\n",
    " - Operating the QGroundControl software during flight tests\n",
    "    \n",
    "## Hardware Specialist\n",
    "The hardware specialist is responsible for the inventory and upkeep of the team's hardware (e.g. drone, batteries, etc).\n",
    "\n",
    "__Responsibilities include:__\n",
    " - Repair of any damaged parts that result from flight test crashes\n",
    " - Battery charging and battery safety\n",
    " - End of day parts inventory and organization\n",
    "\n",
    "\n",
    "## Research Specialist\n",
    "The research specialist is responsible for investigating potential solutions to complex problems as well as documenting important information learned (e.g. wiring diagrams, command sequences, etc), tracking teams progress  and preparing presentations."
   ]
  },
  {
   "cell_type": "code",
   "execution_count": null,
   "metadata": {},
   "outputs": [],
   "source": []
  }
 ],
 "metadata": {
  "kernelspec": {
   "display_name": "Python 2",
   "language": "python",
   "name": "python2"
  },
  "language_info": {
   "codemirror_mode": {
    "name": "ipython",
    "version": 2
   },
   "file_extension": ".py",
   "mimetype": "text/x-python",
   "name": "python",
   "nbconvert_exporter": "python",
   "pygments_lexer": "ipython2",
   "version": "2.7.14"
  }
 },
 "nbformat": 4,
 "nbformat_minor": 2
}
