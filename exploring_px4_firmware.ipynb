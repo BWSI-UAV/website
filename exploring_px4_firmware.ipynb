{
 "cells": [
  {
   "cell_type": "markdown",
   "metadata": {},
   "source": [
    "# Exploring PX4 Firmware\n",
    "\n",
    "This is an advanced (and yet to be completed) tutorial on exploring and modifying the PX4 firmware. The PX4 firmware is the low-level, real-time flight control code that runs on the drone's flight control board. For this class, the flight control board is the Intel AeroFC but PX4 runs just the same on [a wide range of other autopilot boards](https://docs.px4.io/main/en/flight_controller/).\n",
    "\n",
    "The PX4 source code is all open source and under active development; see [here](https://github.com/PX4/PX4-Autopilot). This means that you can go in an modify the low-level control algorithms that are responsible for keeping your drone in stable, controlled flight! This low-level access is a powerful tool for developing advanced capabilities for your drone, but also increases the complexity and potential safety hazard of operations; thus why this is considered an advanced topic.\n",
    "\n",
    "<!-- In this tutorial we will see how to:\n",
    "\n",
    "1. Build and flash new versions of Firmware\n",
    "2. Enable the `uORB Listener` functionality for low-level debugging\n",
    "3. Write a `Hello World` app for PX4 -->"
   ]
  },
  {
   "cell_type": "code",
   "execution_count": null,
   "metadata": {},
   "outputs": [],
   "source": []
  }
 ],
 "metadata": {
  "kernelspec": {
   "display_name": "Python 3 (ipykernel)",
   "language": "python",
   "name": "python3"
  },
  "language_info": {
   "codemirror_mode": {
    "name": "ipython",
    "version": 3
   },
   "file_extension": ".py",
   "mimetype": "text/x-python",
   "name": "python",
   "nbconvert_exporter": "python",
   "pygments_lexer": "ipython3",
   "version": "3.6.13"
  }
 },
 "nbformat": 4,
 "nbformat_minor": 2
}
